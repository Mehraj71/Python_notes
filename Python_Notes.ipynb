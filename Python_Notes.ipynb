{
  "nbformat": 4,
  "nbformat_minor": 0,
  "metadata": {
    "colab": {
      "provenance": [],
      "authorship_tag": "ABX9TyOHtYKi1a/YsOQf06Ajun30",
      "include_colab_link": true
    },
    "kernelspec": {
      "name": "python3",
      "display_name": "Python 3"
    },
    "language_info": {
      "name": "python"
    }
  },
  "cells": [
    {
      "cell_type": "markdown",
      "metadata": {
        "id": "view-in-github",
        "colab_type": "text"
      },
      "source": [
        "<a href=\"https://colab.research.google.com/github/Mehraj71/Python_notes/blob/main/Python_Notes.ipynb\" target=\"_parent\"><img src=\"https://colab.research.google.com/assets/colab-badge.svg\" alt=\"Open In Colab\"/></a>"
      ]
    },
    {
      "cell_type": "markdown",
      "source": [
        "#Python:-\n",
        "Python is defined as most emerging, genral purpose high-level, Object oriented, Dynamically typed, Interpreted programming language.\n",
        "1. General Purpose Programming language :- Apart from data management and AI development, Web development it is used for general purpose ex: ISRO scientist use it for physics calculations, It is used for image processing, stocks tracking.\n",
        "2. High level :- It is a human friendly language, the code is not changing into binary form, We can read the code in python like a English language\n",
        "ex: python, java,php\n",
        "--> Low level programming language :- Machine friendly programming language, The codes are changing into binary form ex: c, c++\n",
        "3. Dynamically Typed programinng language :- We do not have to mention the types of variables.\n",
        "ex: x='Hello world'(Python)\n",
        "--> Statistically typed language :- we need to define the variable ex: str[x]=\"Hello World\". (Java)\n",
        "4. Object Oriented programming language :- [Objects are the real world entities where as classes are the blue print of the object.]\n",
        "5. Interpreted programming language :- Python executes the code line by line, It consider recent values as updated values.\n",
        "\n",
        "Note:- Each line of code in python has its own identity, attributes and method of interactions.\n",
        "\n",
        "IDE (Integrated development environment) - It is a software application that helps programmers write, build, and test code.\n",
        "IDE's are defined as Code compiler, code executor, interpretors or result given.\n",
        "Methods of interaction of IDE:\n",
        "1. Google colab\n",
        "2. Pycharm\n",
        "3. Jupyter Notebook\n",
        "4. VS\n",
        "\n",
        "**Comments** -- It is used for better understanding\n",
        "--> Single line comment is used by #\n",
        "--> Multiline comment is used by \"\"\" \"\"\" or ''' '''\n",
        "\n"
      ],
      "metadata": {
        "id": "OCo8avnJ3Hwp"
      }
    },
    {
      "cell_type": "markdown",
      "source": [
        "#Arithametic Operators:-\n",
        "There are 7 types of arithametic operators\n",
        "1. Addition: +\n",
        "2. Subtraction: -\n",
        "3. Multiplication: *\n",
        "4. Division: /\n",
        "5. Modulus: % (reminder of the division )\n",
        "6. Exponential: ** (to the power of)\n",
        "7. Floor division: // (It ignores the value of after the decimal point)\n",
        "--> The value before the decimal point is known as floor value and the next upcoming value based on decimal numbers is known as ceil value.\n",
        "\n",
        "***Note***:- if the decimal number is equal to >.5 or greater than .5 then it print ceil value\n"
      ],
      "metadata": {
        "id": "R9Wf5ooLcGiD"
      }
    },
    {
      "cell_type": "code",
      "source": [
        "#Addition:-\n",
        "print(10+5)"
      ],
      "metadata": {
        "colab": {
          "base_uri": "https://localhost:8080/"
        },
        "id": "fWXXMzi22tef",
        "outputId": "dbc8cdf9-f6ce-414e-e245-2a37e754dfae"
      },
      "execution_count": null,
      "outputs": [
        {
          "output_type": "stream",
          "name": "stdout",
          "text": [
            "15\n"
          ]
        }
      ]
    },
    {
      "cell_type": "code",
      "source": [
        "#Subtraction:-\n",
        "print(5-4)"
      ],
      "metadata": {
        "colab": {
          "base_uri": "https://localhost:8080/"
        },
        "id": "Z-Y4daHd27aD",
        "outputId": "47929ec8-b5c1-4518-ef5a-df597ea626d0"
      },
      "execution_count": null,
      "outputs": [
        {
          "output_type": "stream",
          "name": "stdout",
          "text": [
            "1\n"
          ]
        }
      ]
    },
    {
      "cell_type": "code",
      "source": [
        "#Multiplication:-\n",
        "print(9*8)"
      ],
      "metadata": {
        "colab": {
          "base_uri": "https://localhost:8080/"
        },
        "id": "VeuAKh2a3DMx",
        "outputId": "1a07e3a0-ff84-4206-f819-144670e09e63"
      },
      "execution_count": null,
      "outputs": [
        {
          "output_type": "stream",
          "name": "stdout",
          "text": [
            "72\n"
          ]
        }
      ]
    },
    {
      "cell_type": "code",
      "source": [
        "#Divison:- sometimes in division operation we may get decimal values in co-efficient to avoid this confusion by default the data type for division is float\n",
        "print(10/5)"
      ],
      "metadata": {
        "colab": {
          "base_uri": "https://localhost:8080/"
        },
        "id": "C8eskNBy3K7a",
        "outputId": "7ad9fc25-a5d1-4684-8e81-48dc535541cc"
      },
      "execution_count": null,
      "outputs": [
        {
          "output_type": "stream",
          "name": "stdout",
          "text": [
            "2.0\n"
          ]
        }
      ]
    },
    {
      "cell_type": "code",
      "source": [
        "#Modulus---> %---> remainder of the division\n",
        "print(10 % 5)\n",
        "print(type(10 % 5))"
      ],
      "metadata": {
        "colab": {
          "base_uri": "https://localhost:8080/"
        },
        "id": "2yaiQzIl4LbH",
        "outputId": "b3c83c7e-3461-498c-fdf0-9a994504b500"
      },
      "execution_count": null,
      "outputs": [
        {
          "output_type": "stream",
          "name": "stdout",
          "text": [
            "0\n",
            "<class 'int'>\n"
          ]
        }
      ]
    },
    {
      "cell_type": "code",
      "source": [
        "#Exponential--> ** --> to the power off\n",
        "print(2 ** 3)\n",
        "print(type(2**3))\n",
        "print(1**5)\n",
        "print(3 ** 2)"
      ],
      "metadata": {
        "colab": {
          "base_uri": "https://localhost:8080/"
        },
        "id": "lP0UifAx4gEf",
        "outputId": "04091ca1-a9e2-43d1-ed29-0eaea51348e9"
      },
      "execution_count": null,
      "outputs": [
        {
          "output_type": "stream",
          "name": "stdout",
          "text": [
            "8\n",
            "<class 'int'>\n",
            "1\n",
            "9\n"
          ]
        }
      ]
    },
    {
      "cell_type": "code",
      "source": [
        "#floor division:----> //\n",
        "#it ignores the values after the decimal point\n",
        "print(10 / 3) \"\"\"Division\"\"\"\n",
        "print(10 // 3) \"\"\"Floor Division\"\"\""
      ],
      "metadata": {
        "colab": {
          "base_uri": "https://localhost:8080/"
        },
        "id": "KbXDv9pr4rIF",
        "outputId": "3e9670ff-ad68-4cbc-bae0-c5f3b8c43e71"
      },
      "execution_count": null,
      "outputs": [
        {
          "output_type": "stream",
          "name": "stdout",
          "text": [
            "3.3333333333333335\n",
            "3\n"
          ]
        }
      ]
    },
    {
      "cell_type": "markdown",
      "source": [
        "# Data Types:-\n",
        "\n",
        "1. None:- When the variable is not assigned with any valus is called none.\n",
        "\n",
        "2. Numeric :- There are 4 categories of data types in this form. They are:-\n",
        "--> Int -- Integer numbers, ex: num = 2\n",
        "\n",
        "--> Float -- The numbers with decimal , ex: num = 5.5\n",
        "\n",
        "--> Complex -- a number + imaginary number, ex: num = 6+9j\n",
        "\n",
        "[Note: It should always be denoted by \"j\", No other character will be accepted as complex number. \"j\" is known as iota and the value of iota is underroot -1]\n",
        "\n",
        "--> Bool -- making of choices as true and false.\n"
      ],
      "metadata": {
        "id": "aHASMJ4oZhte"
      }
    },
    {
      "cell_type": "code",
      "source": [
        "#Integer:- A whole number  either +ve or -ve without decimal point is known as integer.\n",
        "print(10)\n",
        "print(5)\n",
        "print(-5)\n",
        "#find the dtype for above\n",
        "#use \"type()\"\n",
        "print(type(10))\n",
        "print(type(-5))"
      ],
      "metadata": {
        "colab": {
          "base_uri": "https://localhost:8080/"
        },
        "id": "ul_e0n4TZrlH",
        "outputId": "ba695117-06ec-488a-9bc8-c27634d17a8d"
      },
      "execution_count": null,
      "outputs": [
        {
          "output_type": "stream",
          "name": "stdout",
          "text": [
            "10\n",
            "5\n",
            "-5\n",
            "<class 'int'>\n",
            "<class 'int'>\n"
          ]
        }
      ]
    },
    {
      "cell_type": "code",
      "source": [
        "#Float:- A whole number either +ve or -ve with decimal point is known as float.\n",
        "print(10.5)\n",
        "print(5.5)\n",
        "print(-6.5)\n",
        "print(type(10.5))\n",
        "print(type(-6.5))"
      ],
      "metadata": {
        "colab": {
          "base_uri": "https://localhost:8080/"
        },
        "id": "VwLGD9LQZ2rr",
        "outputId": "5a0b79f7-dc7a-4a12-d9b6-cb6a93a04ffe"
      },
      "execution_count": null,
      "outputs": [
        {
          "output_type": "stream",
          "name": "stdout",
          "text": [
            "10.5\n",
            "5.5\n",
            "-6.5\n",
            "<class 'float'>\n",
            "<class 'float'>\n"
          ]
        }
      ]
    },
    {
      "cell_type": "code",
      "source": [
        "print(type(-0.0))"
      ],
      "metadata": {
        "colab": {
          "base_uri": "https://localhost:8080/"
        },
        "id": "G16oP6pebEFG",
        "outputId": "65e25931-0f8c-4a28-e2e6-a2b9df3c382b"
      },
      "execution_count": null,
      "outputs": [
        {
          "output_type": "stream",
          "name": "stdout",
          "text": [
            "<class 'float'>\n"
          ]
        }
      ]
    },
    {
      "cell_type": "code",
      "source": [
        "#Note:-\n",
        "#0-->int\n",
        "#0.0-->float\n",
        "#2.0-->float\n",
        "#.9--> float\n",
        "#-0--->float"
      ],
      "metadata": {
        "id": "HBuDa-yAaBp2"
      },
      "execution_count": null,
      "outputs": []
    },
    {
      "cell_type": "code",
      "source": [
        "print(type(5.5))"
      ],
      "metadata": {
        "colab": {
          "base_uri": "https://localhost:8080/"
        },
        "id": "GneNVqPZayFd",
        "outputId": "7951e74a-1591-4ff3-a263-88f8077eaa76"
      },
      "execution_count": null,
      "outputs": [
        {
          "output_type": "stream",
          "name": "stdout",
          "text": [
            "<class 'float'>\n"
          ]
        }
      ]
    },
    {
      "cell_type": "code",
      "source": [
        " #Complex Numbers:- A real number with it's imaginary parts is known as Complex number.\n",
        " #3x+4y = 6        ---->  2 + 4j\n",
        "#what is \"j\"?\n",
        "# j is known as \"iota\" the value of iota is root -1\n",
        "print(2 + 5j)\n",
        "print(type(2+5j))\n",
        "print(5j)\n",
        "print(type(5j))"
      ],
      "metadata": {
        "id": "VL4GT6JcaMBl"
      },
      "execution_count": null,
      "outputs": []
    },
    {
      "cell_type": "markdown",
      "source": [
        "#Round ():-\n",
        " It is used to print the specific ndigit round off values.\n",
        " If the decimal point is greater than or equal to 0.5 you will be getting the upcoming value.\n",
        "  "
      ],
      "metadata": {
        "id": "7f9aKn6dd8Ak"
      }
    },
    {
      "cell_type": "code",
      "source": [
        "print(round(7.556))"
      ],
      "metadata": {
        "colab": {
          "base_uri": "https://localhost:8080/"
        },
        "id": "vVToqJtwenn5",
        "outputId": "fa402234-c987-409a-d9ae-9ec0294049bc"
      },
      "execution_count": null,
      "outputs": [
        {
          "output_type": "stream",
          "name": "stdout",
          "text": [
            "8\n"
          ]
        }
      ]
    },
    {
      "cell_type": "code",
      "source": [
        "print(round(986.45632,2))\n",
        "print(round(7546.8986485,4))\n",
        "print(round(46464.54556,-2))\n",
        "print(round(12367.0236,-1))"
      ],
      "metadata": {
        "colab": {
          "base_uri": "https://localhost:8080/"
        },
        "id": "_s6w3uCVevRU",
        "outputId": "d8f5a700-c191-438c-84a3-55c20b492da4"
      },
      "execution_count": null,
      "outputs": [
        {
          "output_type": "stream",
          "name": "stdout",
          "text": [
            "986.46\n",
            "7546.8986\n",
            "46500.0\n",
            "12370.0\n"
          ]
        }
      ]
    },
    {
      "cell_type": "markdown",
      "source": [
        "#Variables:-\n",
        "Variables are the containers that stores the information or data and reuse it.\n",
        "ex: x=40\n",
        "\n",
        "**Types of Errors**\n",
        "There are two types of errors:-\n",
        "1. Syntax Errors- Breaking the rules of programming language can raise a syntax errorr.\n",
        "2.Logical Errors - All errors except syntax error are logical errors. (Indentation error, attribute error, Name error, type error etc)\n",
        "\n",
        "**Industrial Rules followed to create a variable**\n",
        "1. Start creating variables using alphabets.\n",
        "2. Don't start creating the variables by using the number.\n",
        "3. We cannot use the special chracter in variables.\n",
        "4. We cannot use the space between the variables.\n",
        "5. We can use '_' in between variables instead of space.\n",
        "6. You can use the numbers in between the variables.\n",
        "\n",
        "**Smart ways of wrriting a variable**\n",
        "1. Assign multiple variables and print it in a separate line.\n",
        "x=10\n",
        "y=20\n",
        "z=30\n",
        "print(x)\n",
        "print(y)\n",
        "print(z)\n",
        "Instead,\n",
        "x,y,z=10,20,30\n",
        "print(x,y,z)\n",
        "and for seperate line print(x,y,z,sep=\"\\n\")\n",
        "\n",
        "**Input()**\n",
        "It takes any kind of data or information and reuse it\n",
        "ex: a = input()\n",
        "print (a)\n",
        "[The default data type for input() is string]\n",
        "\n",
        "Why the default datatype for the input is string?\n",
        "- The function has to be in such a way it can accept any kind of information. So the strings are the default dtype for input.\n",
        "\n",
        "**Concatenation**\n",
        "Adding two strings or two input() without defining the data is known as concatination.  \n"
      ],
      "metadata": {
        "id": "iAZCvXVcfZ1H"
      }
    },
    {
      "cell_type": "code",
      "source": [
        "#How can we access the information from the varaible?\n",
        "#by using print() we can display data storing the varaible\n",
        "#take two varaibles and apply all the arthamatic operations?\n",
        "a = 10\n",
        "b = 20\n",
        "print(a+b)\n",
        "print(a-b)\n",
        "print(a*b)\n",
        "print(b/a)\n",
        "print(b%a)\n",
        "print(b**a)\n",
        "print(b//a)"
      ],
      "metadata": {
        "colab": {
          "base_uri": "https://localhost:8080/"
        },
        "id": "_w6KT-TI6fHc",
        "outputId": "8a64eefc-60f0-42d7-b795-7a5401435b08"
      },
      "execution_count": null,
      "outputs": [
        {
          "output_type": "stream",
          "name": "stdout",
          "text": [
            "30\n",
            "-10\n",
            "200\n",
            "2.0\n",
            "0\n",
            "10240000000000\n",
            "2\n"
          ]
        }
      ]
    },
    {
      "cell_type": "code",
      "source": [
        "#Input\n",
        "a = input(\"enter the number\")\n",
        "b = input(\"enter the number\")\n",
        "print(a+b)\n",
        "a = int(input(\"enter the number\"))\n",
        "b = int(input(\"enter the number\"))\n",
        "print(a+b)"
      ],
      "metadata": {
        "colab": {
          "base_uri": "https://localhost:8080/"
        },
        "id": "-IBizer3meHt",
        "outputId": "9539523a-014b-431f-fb8f-9b24da8353af"
      },
      "execution_count": null,
      "outputs": [
        {
          "output_type": "stream",
          "name": "stdout",
          "text": [
            "enter the number5\n",
            "enter the number6\n",
            "56\n",
            "enter the number6\n",
            "enter the number7\n",
            "13\n"
          ]
        }
      ]
    },
    {
      "cell_type": "code",
      "source": [
        "#concatenation:-\n",
        "#adding 2 strings or 2 input() without defining the data isknown as concatenation\n",
        "print(\"hello\"+\"team\")"
      ],
      "metadata": {
        "colab": {
          "base_uri": "https://localhost:8080/"
        },
        "id": "b1UXLcwrIBtZ",
        "outputId": "82ff116c-2b54-4686-99ca-e27e24f02569"
      },
      "execution_count": null,
      "outputs": [
        {
          "output_type": "stream",
          "name": "stdout",
          "text": [
            "helloteam\n"
          ]
        }
      ]
    },
    {
      "cell_type": "code",
      "source": [
        "a = int(input(\"enetr the number: \"))\n",
        "b = int(input(\"enter the number: \"))\n",
        "print(a+b)\n",
        "#Note:-  when we are dealing with integer or float mention the specific dtype infront input()"
      ],
      "metadata": {
        "colab": {
          "base_uri": "https://localhost:8080/"
        },
        "id": "g6w8i35w8yXu",
        "outputId": "b54dda11-e090-4fdc-d25c-ea50c3a6b3ec"
      },
      "execution_count": null,
      "outputs": [
        {
          "output_type": "stream",
          "name": "stdout",
          "text": [
            "enetr the number: 25\n",
            "enter the number: 24\n",
            "49\n"
          ]
        }
      ]
    },
    {
      "cell_type": "code",
      "source": [
        "#take 2 decimal input() apply all the arthametic operations?\n",
        "a = float(input(\"eneter the decimal: \"))\n",
        "b = float(input(\"enter decimal number: \"))\n",
        "print(a+b)\n",
        "print(a-b)\n",
        "print(a*b)\n",
        "print(a/b)\n",
        "print(a%b)"
      ],
      "metadata": {
        "colab": {
          "base_uri": "https://localhost:8080/"
        },
        "id": "ldRt1nvz9KgX",
        "outputId": "824bab71-2b6c-436b-8afa-0554b89facad"
      },
      "execution_count": null,
      "outputs": [
        {
          "output_type": "stream",
          "name": "stdout",
          "text": [
            "eneter the decimal: 5.5\n",
            "enter decimal number: 4.5\n",
            "10.0\n",
            "1.0\n",
            "24.75\n",
            "1.2222222222222223\n",
            "1.0\n"
          ]
        }
      ]
    },
    {
      "cell_type": "code",
      "source": [
        "#Smart ways of writing a variable:-\n",
        "#1.assign multiple values to multiple varaibles and print it in a seprate line\n",
        "#for ex:- take 3 varaibles x,y,z\n",
        "x = 10\n",
        "y = 20\n",
        "z = 30\n",
        "print(x)\n",
        "print(y)\n",
        "print(z)"
      ],
      "metadata": {
        "colab": {
          "base_uri": "https://localhost:8080/"
        },
        "id": "xAnR2nO37emE",
        "outputId": "8c890111-58a3-4c28-9802-e7cdb6778da3"
      },
      "execution_count": null,
      "outputs": [
        {
          "output_type": "stream",
          "name": "stdout",
          "text": [
            "10\n",
            "20\n",
            "30\n"
          ]
        }
      ]
    },
    {
      "cell_type": "code",
      "source": [
        "x,y,z = 10,20,30\n",
        "#use the \"sep\" keyword to print output in separate lines\n",
        "print(x,y,z,sep=\"\\n\")"
      ],
      "metadata": {
        "colab": {
          "base_uri": "https://localhost:8080/"
        },
        "id": "qzVycZ2Q7ycN",
        "outputId": "26a4d0eb-39f4-4ca9-f6bf-a3f1dff9b59a"
      },
      "execution_count": null,
      "outputs": [
        {
          "output_type": "stream",
          "name": "stdout",
          "text": [
            "10\n",
            "20\n",
            "30\n"
          ]
        }
      ]
    },
    {
      "cell_type": "code",
      "source": [
        "#assign a single value to the multiple varaibles and print in separate line\n",
        "#take 3 varaibles x,y,z and assign same values to it\n",
        "x = 10\n",
        "y = 10\n",
        "z = 10\n",
        "print(x,y,z,sep=\"\\n\")"
      ],
      "metadata": {
        "colab": {
          "base_uri": "https://localhost:8080/"
        },
        "id": "GaIzWl_875Pe",
        "outputId": "2e8fc28b-a6c8-406a-c668-4048fa8417d3"
      },
      "execution_count": null,
      "outputs": [
        {
          "output_type": "stream",
          "name": "stdout",
          "text": [
            "10\n",
            "10\n",
            "10\n"
          ]
        }
      ]
    },
    {
      "cell_type": "code",
      "source": [
        "x=y=z= 10\n",
        "print(x,y,z,sep=\"\\n\")"
      ],
      "metadata": {
        "colab": {
          "base_uri": "https://localhost:8080/"
        },
        "id": "XlOxScqZ7_hc",
        "outputId": "72add817-a115-42b7-9973-a4836d3ee0ee"
      },
      "execution_count": null,
      "outputs": [
        {
          "output_type": "stream",
          "name": "stdout",
          "text": [
            "10\n",
            "10\n",
            "10\n"
          ]
        }
      ]
    },
    {
      "cell_type": "markdown",
      "source": [
        "#Strings:-\n",
        "String is a collection of multiple characters written inside the quotes.\n",
        "We can declare strings in \" \" or ' '\n",
        "--> There are two types of strings:\n",
        "1.  Single Line string: ' ' or \" \"\n",
        "2.  Multiline string: \"\"\" \"\"\" double triple quotes or ''' ''' single triple quotes\n",
        "\n",
        "--> String is a collection of multiple characters where each character can be accessible.\n",
        "\n",
        "--> String is ordered which means characters in the string has sequence of index position numbers.\n",
        "\n",
        "--> We can access the characters by using \"indexing\" and slicing operators - []."
      ],
      "metadata": {
        "id": "SVW3LJM7IaG4"
      }
    },
    {
      "cell_type": "code",
      "source": [
        "# print a single line string\n",
        "print(\"hello world\")"
      ],
      "metadata": {
        "colab": {
          "base_uri": "https://localhost:8080/"
        },
        "id": "pzR1URw5KBF6",
        "outputId": "cfa1ec8a-e18f-49c2-a704-42731f01fcea"
      },
      "execution_count": null,
      "outputs": [
        {
          "output_type": "stream",
          "name": "stdout",
          "text": [
            "hello world\n"
          ]
        }
      ]
    },
    {
      "cell_type": "code",
      "source": [
        "#multiline string\n",
        "print(\"\"\"Hi\n",
        "        Good Day!\n",
        "        I am writing a multiline string\"\"\")"
      ],
      "metadata": {
        "colab": {
          "base_uri": "https://localhost:8080/"
        },
        "id": "lj0SlvSoKMtw",
        "outputId": "a48dea18-9a98-4d81-c9e7-2e5c3e84cb91"
      },
      "execution_count": null,
      "outputs": [
        {
          "output_type": "stream",
          "name": "stdout",
          "text": [
            "Hi\n",
            "        Good Day!\n",
            "        I am writing a multiline string\n"
          ]
        }
      ]
    },
    {
      "cell_type": "code",
      "source": [
        "a = \"hello world\"\n",
        "#from the above string print 'd'\n",
        "#[start_index_number]\n",
        "#print (a[1])\n",
        "#print 'r' from the above string\n",
        "#print(a[8])\n",
        "#print the \"hello world\" in separate line without using loops\n",
        "print(a[-1])\n",
        "print(a[0])\n",
        "print(a[1])\n",
        "print(a[9])\n",
        "print(a[8])\n",
        "\n"
      ],
      "metadata": {
        "colab": {
          "base_uri": "https://localhost:8080/"
        },
        "id": "nrt2pFnkM1z6",
        "outputId": "ff1fe025-f9a6-4d5c-91ee-93805cb0386a"
      },
      "execution_count": null,
      "outputs": [
        {
          "output_type": "stream",
          "name": "stdout",
          "text": [
            "d\n",
            "h\n",
            "e\n",
            "l\n",
            "r\n"
          ]
        }
      ]
    },
    {
      "cell_type": "code",
      "source": [
        "# To access a range of characters [start:end_index_number]\n",
        "s = \"hello world!\"\n",
        "print(s[2:7]) #end index can be n+1\n",
        "#why the 7th charcter is not printed?\n",
        "#because slicing can be stop  before the end index position number\n",
        "print(s[2:8])\n",
        "#from the above print the entire \"hello\"\n",
        "print(s[0:5])"
      ],
      "metadata": {
        "colab": {
          "base_uri": "https://localhost:8080/"
        },
        "id": "yMxqRmeLJQaJ",
        "outputId": "abcc51f5-d27f-4284-a88e-2b3fdc7c1b17"
      },
      "execution_count": null,
      "outputs": [
        {
          "output_type": "stream",
          "name": "stdout",
          "text": [
            "llo w\n",
            "llo wo\n",
            "hello\n"
          ]
        }
      ]
    },
    {
      "cell_type": "code",
      "source": [
        "print(\"hello\\n\" 'world')"
      ],
      "metadata": {
        "colab": {
          "base_uri": "https://localhost:8080/"
        },
        "id": "YrJBbGl7Pdbn",
        "outputId": "110b090f-dcd8-4443-c4f9-95c244eae6a3"
      },
      "execution_count": null,
      "outputs": [
        {
          "output_type": "stream",
          "name": "stdout",
          "text": [
            "hello\n",
            "world\n"
          ]
        }
      ]
    },
    {
      "cell_type": "code",
      "source": [
        "a = \"\"\"Data is a collection of facts, numbers, words, observations, or other useful information\n",
        "that can be used for calculation, reasoning, or planning.\"\"\"\n",
        "#howmany character in above string\n",
        "#use len() given total number characters in string\n",
        "#length start from 1\n",
        "print(len(a))\n",
        "#find end index_number of the above string\n",
        "print(len(a)-1)\n",
        "print(a[146])"
      ],
      "metadata": {
        "colab": {
          "base_uri": "https://localhost:8080/",
          "height": 211
        },
        "id": "edQQEREm9ZuK",
        "outputId": "3a97784a-533b-4f41-9b02-2ae938f07831"
      },
      "execution_count": null,
      "outputs": [
        {
          "output_type": "stream",
          "name": "stdout",
          "text": [
            "146\n",
            "145\n"
          ]
        },
        {
          "output_type": "error",
          "ename": "IndexError",
          "evalue": "string index out of range",
          "traceback": [
            "\u001b[0;31m---------------------------------------------------------------------------\u001b[0m",
            "\u001b[0;31mIndexError\u001b[0m                                Traceback (most recent call last)",
            "\u001b[0;32m<ipython-input-1-1c950a5bc0dd>\u001b[0m in \u001b[0;36m<cell line: 0>\u001b[0;34m()\u001b[0m\n\u001b[1;32m      7\u001b[0m \u001b[0;31m#find end index_number of the above string\u001b[0m\u001b[0;34m\u001b[0m\u001b[0;34m\u001b[0m\u001b[0m\n\u001b[1;32m      8\u001b[0m \u001b[0mprint\u001b[0m\u001b[0;34m(\u001b[0m\u001b[0mlen\u001b[0m\u001b[0;34m(\u001b[0m\u001b[0ma\u001b[0m\u001b[0;34m)\u001b[0m\u001b[0;34m-\u001b[0m\u001b[0;36m1\u001b[0m\u001b[0;34m)\u001b[0m\u001b[0;34m\u001b[0m\u001b[0;34m\u001b[0m\u001b[0m\n\u001b[0;32m----> 9\u001b[0;31m \u001b[0mprint\u001b[0m\u001b[0;34m(\u001b[0m\u001b[0ma\u001b[0m\u001b[0;34m[\u001b[0m\u001b[0;36m146\u001b[0m\u001b[0;34m]\u001b[0m\u001b[0;34m)\u001b[0m\u001b[0;34m\u001b[0m\u001b[0;34m\u001b[0m\u001b[0m\n\u001b[0m",
            "\u001b[0;31mIndexError\u001b[0m: string index out of range"
          ]
        }
      ]
    },
    {
      "cell_type": "markdown",
      "source": [
        "#Negative Indexing:-\n",
        "\n",
        "It is a format in which we can access the items in reverse direction.\n",
        "\n",
        "--> Negative Indexing starts from -1.\n",
        "\n",
        "--> We cannot print the range of characters in reverse direction.\n",
        "\n",
        "--> By default silicing direction is from left to right. If we want to go in reverse direction then we have to mention -1.  "
      ],
      "metadata": {
        "id": "J-nxkeBS9mCN"
      }
    },
    {
      "cell_type": "code",
      "source": [
        "a =  \"Hello Good Afternoon\"\n",
        "print(a[-1])"
      ],
      "metadata": {
        "colab": {
          "base_uri": "https://localhost:8080/"
        },
        "id": "GNEIH8zM_Peg",
        "outputId": "354d8cc4-d44f-4b83-97a5-b4e4441425a3"
      },
      "execution_count": null,
      "outputs": [
        {
          "output_type": "stream",
          "name": "stdout",
          "text": [
            "n\n"
          ]
        }
      ]
    },
    {
      "cell_type": "code",
      "source": [
        "print(a[-1:-6])# The range of directions cannot be printed in reverse direction.\n",
        "print(a[-1:-7:-1])"
      ],
      "metadata": {
        "colab": {
          "base_uri": "https://localhost:8080/"
        },
        "id": "aT9fT6oW_d-A",
        "outputId": "cddd049c-dfa6-40eb-b472-46700f265751"
      },
      "execution_count": null,
      "outputs": [
        {
          "output_type": "stream",
          "name": "stdout",
          "text": [
            "\n",
            "noonre\n"
          ]
        }
      ]
    },
    {
      "cell_type": "code",
      "source": [
        "m = \"hello\"\n",
        "#reverse the above string\n",
        "print(m[-1:-6:-1])"
      ],
      "metadata": {
        "colab": {
          "base_uri": "https://localhost:8080/"
        },
        "id": "DYm-jAcqAOKA",
        "outputId": "b3a4f7c1-e3cf-44e3-f8b4-f14bf3f73e00"
      },
      "execution_count": null,
      "outputs": [
        {
          "output_type": "stream",
          "name": "stdout",
          "text": [
            "olleh\n"
          ]
        }
      ]
    },
    {
      "cell_type": "code",
      "source": [
        "e = \"madam\"\n",
        "print(e[-1:-6:-1])\n",
        "print(e[:])\n",
        "print(e[::])\n",
        "print(e[::2])\n",
        "print(e[::-1])"
      ],
      "metadata": {
        "colab": {
          "base_uri": "https://localhost:8080/"
        },
        "id": "eEMDrYW2Acs3",
        "outputId": "cd17262b-8fe0-497c-f12d-ad9370b24376"
      },
      "execution_count": null,
      "outputs": [
        {
          "output_type": "stream",
          "name": "stdout",
          "text": [
            "madam\n",
            "madam\n",
            "madam\n",
            "mdm\n",
            "madam\n"
          ]
        }
      ]
    },
    {
      "cell_type": "code",
      "source": [
        "st = 'Happy Christmas and Happy new year'\n",
        "\n",
        "if st.startswith(\"Happy\"):\n",
        "    x = st.rsplit(\"Happy\")  # Split by \"Happy\"\n",
        "\n",
        "print(len(x))"
      ],
      "metadata": {
        "colab": {
          "base_uri": "https://localhost:8080/"
        },
        "id": "rqllH-TUBcqH",
        "outputId": "16ca4921-b5fb-45ea-92c5-e8ab82fe3dba"
      },
      "execution_count": null,
      "outputs": [
        {
          "output_type": "stream",
          "name": "stdout",
          "text": [
            "3\n"
          ]
        }
      ]
    },
    {
      "cell_type": "markdown",
      "source": [
        "#Revision:-\n",
        "\n",
        "-- Indexing:- Positional number of characters.\n",
        "-- String:- It is ordered sequence positional number of characters.\n",
        "-- Leng():- Counts the number of characters in the string.\n",
        "-- To print the even characters from the string [start(0):end:step(2)].\n",
        "-- To print the odd characters from the string [start(1):end:step(2)].\n",
        "-- Negative Indexing:- we can access the string in reverse direction. And it\n",
        "                       start's from -1.\n",
        "-- Default slicing direction:- Slicing can be done from left to right."
      ],
      "metadata": {
        "id": "oGw3R0sOB_X3"
      }
    },
    {
      "cell_type": "code",
      "source": [
        "s = \"Hello world!\"\n",
        "print(s[-1:-7])\n",
        "print(s[-7:-1])"
      ],
      "metadata": {
        "colab": {
          "base_uri": "https://localhost:8080/"
        },
        "id": "BMaGV2PbD7_-",
        "outputId": "6e18ac90-f4d5-471b-822a-3977c1f43237"
      },
      "execution_count": null,
      "outputs": [
        {
          "output_type": "stream",
          "name": "stdout",
          "text": [
            "\n",
            " world\n"
          ]
        }
      ]
    },
    {
      "cell_type": "code",
      "source": [
        "#How can i print the string in reverse direction (or) how can i access the string by using negative indexing?\n",
        "#if you want to access string in reverse direction we need to give step value as \"-1\"\n",
        "print(s[-1:-13:-1])"
      ],
      "metadata": {
        "colab": {
          "base_uri": "https://localhost:8080/"
        },
        "id": "5k0eeHqJEECT",
        "outputId": "63f4d50b-a95a-4c4e-c6d6-a64c82c79217"
      },
      "execution_count": null,
      "outputs": [
        {
          "output_type": "stream",
          "name": "stdout",
          "text": [
            "!dlrow olleH\n"
          ]
        }
      ]
    },
    {
      "cell_type": "markdown",
      "source": [
        "#Default Indexing:-"
      ],
      "metadata": {
        "id": "maeAu5X_ENFs"
      }
    },
    {
      "cell_type": "code",
      "source": [
        "#How can we make slicing very easy without giving the indexing?\n",
        "h = \"Data science is the scientific study of data to gain knowledge and make informed decisions\"\n",
        "print(h[:])\n",
        "#default indexing[startposition[0]:end[len(str)]:step[1]]\n",
        "print(h[::]) #value error: slice step cannot be zero\n",
        "#print th even index characters from above string?\n",
        "print(h[::2])\n",
        "#odd charcters\n",
        "print(h[1::2])"
      ],
      "metadata": {
        "id": "7UUd5SSQEYdd",
        "colab": {
          "base_uri": "https://localhost:8080/"
        },
        "outputId": "3cbbbe3f-3c04-4abd-c159-cb315f005bdb"
      },
      "execution_count": null,
      "outputs": [
        {
          "output_type": "stream",
          "name": "stdout",
          "text": [
            "Data science is the scientific study of data to gain knowledge and make informed decisions\n",
            "Data science is the scientific study of data to gain knowledge and make informed decisions\n",
            "Dt cec stesinii td fdt ogi nweg n aeifre eiin\n",
            "aasinei h cetfcsuyo aat ankoldeadmk nomddcsos\n"
          ]
        }
      ]
    },
    {
      "cell_type": "code",
      "source": [
        "a = \"hello\"\n",
        "#reverse above string\n",
        "print(a[::-1])"
      ],
      "metadata": {
        "colab": {
          "base_uri": "https://localhost:8080/"
        },
        "id": "dfkFD3SxBkJQ",
        "outputId": "db9d2766-a1e7-4214-8f33-7e4de4bd339c"
      },
      "execution_count": null,
      "outputs": [
        {
          "output_type": "stream",
          "name": "stdout",
          "text": [
            "olleh\n"
          ]
        }
      ]
    },
    {
      "cell_type": "code",
      "source": [
        "#Palindrome:- For a number or string to be palindrome in python, The number or sting must be the same when inverted.\n",
        "# 11, 414, 123321 are examples of palindrome numbers and mom, dad, madam are examples of palindrome strings in python.\n",
        "#check whether the string is palindrome or not?\n",
        "#madam,  malayalam, markram, mom, dad, hyderabad, karnatak,chennai\n",
        "i = input(\"enter the name: \")\n",
        "print(i[::-1])"
      ],
      "metadata": {
        "colab": {
          "base_uri": "https://localhost:8080/"
        },
        "id": "s86IIGNwBrYl",
        "outputId": "eaaada8c-e55a-427c-dd92-64a65e52c7ce"
      },
      "execution_count": null,
      "outputs": [
        {
          "output_type": "stream",
          "name": "stdout",
          "text": [
            "enter the name: mom\n",
            "mom\n"
          ]
        }
      ]
    },
    {
      "cell_type": "markdown",
      "source": [
        "#String Methods:-\n",
        "A set of built-in methods that can be used for data handling and manipulation on strings is known as string methods.\n",
        "\n",
        "**Note** - By using \"dir()\" we can find out all the methods which are applicable on strings."
      ],
      "metadata": {
        "id": "FoHmCampFRC2"
      }
    },
    {
      "cell_type": "code",
      "source": [
        "#What are all the methods that can be applied on the below string.\n",
        "a = \"Hello World!\"\n",
        "print(dir(a))"
      ],
      "metadata": {
        "colab": {
          "base_uri": "https://localhost:8080/"
        },
        "id": "tWlQ6TqIHCDK",
        "outputId": "67c46028-8287-4104-985e-370991091a37"
      },
      "execution_count": null,
      "outputs": [
        {
          "output_type": "stream",
          "name": "stdout",
          "text": [
            "['__add__', '__class__', '__contains__', '__delattr__', '__dir__', '__doc__', '__eq__', '__format__', '__ge__', '__getattribute__', '__getitem__', '__getnewargs__', '__getstate__', '__gt__', '__hash__', '__init__', '__init_subclass__', '__iter__', '__le__', '__len__', '__lt__', '__mod__', '__mul__', '__ne__', '__new__', '__reduce__', '__reduce_ex__', '__repr__', '__rmod__', '__rmul__', '__setattr__', '__sizeof__', '__str__', '__subclasshook__', 'capitalize', 'casefold', 'center', 'count', 'encode', 'endswith', 'expandtabs', 'find', 'format', 'format_map', 'index', 'isalnum', 'isalpha', 'isascii', 'isdecimal', 'isdigit', 'isidentifier', 'islower', 'isnumeric', 'isprintable', 'isspace', 'istitle', 'isupper', 'join', 'ljust', 'lower', 'lstrip', 'maketrans', 'partition', 'removeprefix', 'removesuffix', 'replace', 'rfind', 'rindex', 'rjust', 'rpartition', 'rsplit', 'rstrip', 'split', 'splitlines', 'startswith', 'strip', 'swapcase', 'title', 'translate', 'upper', 'zfill']\n"
          ]
        }
      ]
    },
    {
      "cell_type": "code",
      "source": [
        "print(dir())"
      ],
      "metadata": {
        "colab": {
          "base_uri": "https://localhost:8080/"
        },
        "id": "U8c6NcisIB3X",
        "outputId": "6e4fd119-2a02-471b-d08e-a31c30fe84fb"
      },
      "execution_count": null,
      "outputs": [
        {
          "output_type": "stream",
          "name": "stdout",
          "text": [
            "['In', 'Out', '_', '__', '___', '__builtin__', '__builtins__', '__doc__', '__loader__', '__name__', '__package__', '__spec__', '_dh', '_i', '_i1', '_i10', '_i11', '_i2', '_i3', '_i4', '_i5', '_i6', '_i7', '_i8', '_i9', '_ih', '_ii', '_iii', '_oh', 'a', 'exit', 'get_ipython', 'h', 'i', 'quit']\n"
          ]
        }
      ]
    },
    {
      "cell_type": "code",
      "source": [
        "\"\"\"'capitalize', 'casefold', 'center', 'count', 'encode', 'endswith',\n",
        " 'expandtabs', 'find', 'format', 'format_map', 'index', 'isalnum',\n",
        " 'isalpha', 'isascii', 'isdecimal', 'isdigit', 'isidentifier',\n",
        "  'islower','isnumeric', 'isprintable', 'isspace', 'istitle', 'isupper',\n",
        "   'join', 'ljust', 'lower', 'lstrip', 'maketrans', 'partition', 'removeprefix',\n",
        "    'removesuffix', 'replace', 'rfind', 'rindex', 'rjust', 'rpartition',\n",
        "'rsplit', 'rstrip', 'split', 'splitlines', 'startswith', 'strip',\n",
        " 'swapcase', 'title', 'translate', 'upper', 'zfill' \"\"\""
      ],
      "metadata": {
        "id": "TazDgKD-INas"
      },
      "execution_count": null,
      "outputs": []
    },
    {
      "cell_type": "code",
      "source": [
        "a = \"hello world!\"\n",
        "#convert the above string into upper case letters.\n",
        "#Convert the first letter into capital.\n",
        "#Convert the first letter after every space into capital letter.\n",
        "b = \"GOOD DAY!\"\n",
        "#Convert the above string into lower case letters.\n",
        "print(a.upper())\n",
        "print(b.lower())\n",
        "print(a.capitalize())\n",
        "print(a.title())"
      ],
      "metadata": {
        "colab": {
          "base_uri": "https://localhost:8080/"
        },
        "id": "4NBi-bX3ItIq",
        "outputId": "6d445411-0d11-418a-d1cc-7a55ca0030c0"
      },
      "execution_count": null,
      "outputs": [
        {
          "output_type": "stream",
          "name": "stdout",
          "text": [
            "HELLO WORLD!\n",
            "good day!\n",
            "Hello world!\n",
            "Hello World!\n"
          ]
        }
      ]
    },
    {
      "cell_type": "code",
      "source": [
        "k = \"   Love Nature    \"\n",
        "#delete unwanted spaace from string\n",
        "print(k.strip())\n",
        "#Remove the right side space\n",
        "print(k.rstrip())\n",
        "#Remove the left side space\n",
        "print(k.lstrip())"
      ],
      "metadata": {
        "colab": {
          "base_uri": "https://localhost:8080/"
        },
        "id": "zLiXtXMtKdYL",
        "outputId": "9b757e65-2087-46e7-b8b4-f65a8c47607b"
      },
      "execution_count": null,
      "outputs": [
        {
          "output_type": "stream",
          "name": "stdout",
          "text": [
            "Love Nature\n",
            "   Love Nature\n",
            "Love Nature    \n"
          ]
        }
      ]
    },
    {
      "cell_type": "code",
      "source": [
        "z = \"Hello World!\"\n",
        "#Replace 'World' with 'Universe' in the given string.\n",
        "print(z.replace(\"World\",\"Universe\"))"
      ],
      "metadata": {
        "colab": {
          "base_uri": "https://localhost:8080/"
        },
        "id": "SWbdM9wFMpYg",
        "outputId": "c6292627-db14-4700-a1a9-8cad6c879952"
      },
      "execution_count": null,
      "outputs": [
        {
          "output_type": "stream",
          "name": "stdout",
          "text": [
            "Hello Universe!\n"
          ]
        }
      ]
    },
    {
      "cell_type": "code",
      "source": [
        "y = \"Good Afternoon\"\n",
        "print(y.find('z'))\n",
        "print(y.index('z'))\n",
        "# Find and Index:-\n",
        "# In \"find\" if the character is not present it prints -1.\n",
        "#Where as in \"Index\" if the character is not present it raises 'value error'."
      ],
      "metadata": {
        "colab": {
          "base_uri": "https://localhost:8080/",
          "height": 228
        },
        "id": "eH-eDeSKNjpJ",
        "outputId": "94b4f766-4d82-4711-84c0-53ece4d8992e"
      },
      "execution_count": null,
      "outputs": [
        {
          "output_type": "stream",
          "name": "stdout",
          "text": [
            "-1\n"
          ]
        },
        {
          "output_type": "error",
          "ename": "ValueError",
          "evalue": "substring not found",
          "traceback": [
            "\u001b[0;31m---------------------------------------------------------------------------\u001b[0m",
            "\u001b[0;31mValueError\u001b[0m                                Traceback (most recent call last)",
            "\u001b[0;32m<ipython-input-18-eb25b9c95e0b>\u001b[0m in \u001b[0;36m<cell line: 0>\u001b[0;34m()\u001b[0m\n\u001b[1;32m      1\u001b[0m \u001b[0my\u001b[0m \u001b[0;34m=\u001b[0m \u001b[0;34m\"Good Afternoon\"\u001b[0m\u001b[0;34m\u001b[0m\u001b[0;34m\u001b[0m\u001b[0m\n\u001b[1;32m      2\u001b[0m \u001b[0mprint\u001b[0m\u001b[0;34m(\u001b[0m\u001b[0my\u001b[0m\u001b[0;34m.\u001b[0m\u001b[0mfind\u001b[0m\u001b[0;34m(\u001b[0m\u001b[0;34m'z'\u001b[0m\u001b[0;34m)\u001b[0m\u001b[0;34m)\u001b[0m\u001b[0;34m\u001b[0m\u001b[0;34m\u001b[0m\u001b[0m\n\u001b[0;32m----> 3\u001b[0;31m \u001b[0mprint\u001b[0m\u001b[0;34m(\u001b[0m\u001b[0my\u001b[0m\u001b[0;34m.\u001b[0m\u001b[0mindex\u001b[0m\u001b[0;34m(\u001b[0m\u001b[0;34m'z'\u001b[0m\u001b[0;34m)\u001b[0m\u001b[0;34m)\u001b[0m\u001b[0;34m\u001b[0m\u001b[0;34m\u001b[0m\u001b[0m\n\u001b[0m\u001b[1;32m      4\u001b[0m \u001b[0;31m# Find and Index:-\u001b[0m\u001b[0;34m\u001b[0m\u001b[0;34m\u001b[0m\u001b[0m\n\u001b[1;32m      5\u001b[0m \u001b[0;31m# In \"find\" if the character is not present it prints -1.\u001b[0m\u001b[0;34m\u001b[0m\u001b[0;34m\u001b[0m\u001b[0m\n",
            "\u001b[0;31mValueError\u001b[0m: substring not found"
          ]
        }
      ]
    },
    {
      "cell_type": "markdown",
      "source": [
        "#String Formatting Method:-\n",
        "String Formatting is also known as \"String Interpolation\". It is a process of inserting a custom string or variable in predefined text.  "
      ],
      "metadata": {
        "id": "2_eytGZuQDwN"
      }
    },
    {
      "cell_type": "code",
      "source": [
        "age = 24\n",
        "txt = f\"I am {age} years old.\"\n",
        "print(txt)"
      ],
      "metadata": {
        "colab": {
          "base_uri": "https://localhost:8080/"
        },
        "id": "2UYmpyoCQ7L7",
        "outputId": "d08f5d20-72d3-4bf7-edee-b05f0fb622e2"
      },
      "execution_count": null,
      "outputs": [
        {
          "output_type": "stream",
          "name": "stdout",
          "text": [
            "I am 24 years old.\n"
          ]
        }
      ]
    },
    {
      "cell_type": "code",
      "source": [
        "item_name = input(\"enter the product name: \")\n",
        "quantity = float(input(\"enter the quantity: \"))\n",
        "price_for_each = float(input(\"enter the price: \"))\n",
        "notification = f\"Your order for {item_name} has been confirmed with a quantity of {quantity} and Total price {price_for_each*quantity}/-\"\n",
        "print(notification)"
      ],
      "metadata": {
        "colab": {
          "base_uri": "https://localhost:8080/"
        },
        "id": "nvni8mNjSMuh",
        "outputId": "7231aa98-8f22-4997-a5a0-a48a307104f0"
      },
      "execution_count": null,
      "outputs": [
        {
          "output_type": "stream",
          "name": "stdout",
          "text": [
            "enter the product name: Biryani\n",
            "enter the quantity: 10\n",
            "enter the price: 350\n",
            "Your order for Biryani has been confirmed with a quantity of 10.0 and Total price 3500.0/-\n"
          ]
        }
      ]
    },
    {
      "cell_type": "markdown",
      "source": [
        "#Escape characters:-\n",
        "In Python, Escape characters are used to reprresent certain characters that are difficult to type directly in the string. Escape characters use to print the illegal characters (\" \") and (' ') or also enables you to insert characters like newlines, tabs, quotes, or even a backslash itself into a string by using backslash (\\) in front of the characters.\n",
        "  "
      ],
      "metadata": {
        "id": "L9CpoB9JUu-T"
      }
    },
    {
      "cell_type": "code",
      "source": [
        "#Printing the below string with quotes.\n",
        "x = \"Dwayne \\\"The Rock\\\" Johonson\"\n",
        "print(x)"
      ],
      "metadata": {
        "colab": {
          "base_uri": "https://localhost:8080/"
        },
        "id": "E4zCJjn0YOir",
        "outputId": "c2825ee4-0b82-46c8-c98c-5fc79cd9f8d2"
      },
      "execution_count": null,
      "outputs": [
        {
          "output_type": "stream",
          "name": "stdout",
          "text": [
            "Dwayne \"The Rock\" Johonson\n"
          ]
        }
      ]
    },
    {
      "cell_type": "code",
      "source": [
        "w = \"Hi Mehraj, Have a \\\"Good Day\\\"!\"\n",
        "print(w)"
      ],
      "metadata": {
        "colab": {
          "base_uri": "https://localhost:8080/"
        },
        "id": "SYv8R4zjZT3N",
        "outputId": "470cf236-adec-47ce-9d54-62e3cb322102"
      },
      "execution_count": null,
      "outputs": [
        {
          "output_type": "stream",
          "name": "stdout",
          "text": [
            "Hi Mehraj, Have a \"Good Day\"!\n"
          ]
        }
      ]
    },
    {
      "cell_type": "code",
      "source": [
        "v = 10\n",
        "print(dir(v))"
      ],
      "metadata": {
        "colab": {
          "base_uri": "https://localhost:8080/"
        },
        "id": "SaTO5VH-Z4zn",
        "outputId": "bd7259c7-0540-44f5-abe7-f0197c63aa2e"
      },
      "execution_count": null,
      "outputs": [
        {
          "output_type": "stream",
          "name": "stdout",
          "text": [
            "['__abs__', '__add__', '__and__', '__bool__', '__ceil__', '__class__', '__delattr__', '__dir__', '__divmod__', '__doc__', '__eq__', '__float__', '__floor__', '__floordiv__', '__format__', '__ge__', '__getattribute__', '__getnewargs__', '__getstate__', '__gt__', '__hash__', '__index__', '__init__', '__init_subclass__', '__int__', '__invert__', '__le__', '__lshift__', '__lt__', '__mod__', '__mul__', '__ne__', '__neg__', '__new__', '__or__', '__pos__', '__pow__', '__radd__', '__rand__', '__rdivmod__', '__reduce__', '__reduce_ex__', '__repr__', '__rfloordiv__', '__rlshift__', '__rmod__', '__rmul__', '__ror__', '__round__', '__rpow__', '__rrshift__', '__rshift__', '__rsub__', '__rtruediv__', '__rxor__', '__setattr__', '__sizeof__', '__str__', '__sub__', '__subclasshook__', '__truediv__', '__trunc__', '__xor__', 'as_integer_ratio', 'bit_count', 'bit_length', 'conjugate', 'denominator', 'from_bytes', 'imag', 'numerator', 'real', 'to_bytes']\n"
          ]
        }
      ]
    },
    {
      "cell_type": "markdown",
      "source": [],
      "metadata": {
        "id": "gO2L7KXoc5Il"
      }
    },
    {
      "cell_type": "markdown",
      "source": [
        "#Conditional Statements:-\n",
        "\n",
        "Conditional statements in python are used to control the flow of progamme based on conditions. Decision making programme can be done with the help of conditional statement.\n",
        "The decision making or conditional check can be done based on \"Compararision Operators\".\n",
        "\n",
        "**Comparision operators**:-\n",
        "Operators where we can check certain conditions that are satisfied or not satisfied. It is also known as \"Relational Operators\". There are 6 types of Conditional or Relational operators, They are:\n",
        "\n",
        "1. Equal to --->  ==\n",
        "2. Not Equal to --->  !=\n",
        "3. Greater Than --->  >\n",
        "4. Less Than --->  <\n",
        "5. Greater than Equal to --->  >=\n",
        "6. Less Than Equal to --->  <=\n",
        "\n",
        "**The types of conditional statements we have in Python are**:-\n",
        "\n",
        "if, elif, else."
      ],
      "metadata": {
        "id": "ISTSQaCHc19i"
      }
    },
    {
      "cell_type": "code",
      "source": [
        "#write a programme to check wether the students have passed or failed based on their marks and print their marks.\n",
        "marks = int(input(\"emter the marks:  \"))\n",
        "passing = 45\n",
        "if marks >= passing:\n",
        "  print(f\"congratulations, You have secured {marks}marks\")\n",
        "else:\n",
        "  print(f\"Better Luck Next Time, You have recieved {marks}marks\")"
      ],
      "metadata": {
        "colab": {
          "base_uri": "https://localhost:8080/"
        },
        "id": "9n0xmRqxaD1Y",
        "outputId": "765d21d9-9a66-4d6c-e717-feefce74215b"
      },
      "execution_count": null,
      "outputs": [
        {
          "output_type": "stream",
          "name": "stdout",
          "text": [
            "emter the marks:  91\n",
            "congratulations, You have secured 91marks\n"
          ]
        }
      ]
    },
    {
      "cell_type": "code",
      "source": [
        "#elif can be used if we are having more than two conditions.\n",
        "#write a programme to check either the given number is +ve, -ve or neutral(if it is 0).\n",
        "number = int(input(\"enter the number:  \"))\n",
        "if number > 0:\n",
        "  print(\"+ve\")\n",
        "elif number == 0:\n",
        "  print(\"neutral\")\n",
        "else:\n",
        "  print(\"-ve\")"
      ],
      "metadata": {
        "colab": {
          "base_uri": "https://localhost:8080/"
        },
        "id": "oz1woEXIc4ER",
        "outputId": "310d4117-699d-4ca4-e840-97c2c388948f"
      },
      "execution_count": null,
      "outputs": [
        {
          "output_type": "stream",
          "name": "stdout",
          "text": [
            "enter the number:  -55\n",
            "-ve\n"
          ]
        }
      ]
    },
    {
      "cell_type": "code",
      "source": [
        "#write a program to check whether the given string is palidrome or not , irrespective of letters\n",
        "print(1 == 1)\n",
        "print(\"a\"==\"A\")\n",
        "print(ord(\"C\"))"
      ],
      "metadata": {
        "colab": {
          "base_uri": "https://localhost:8080/"
        },
        "id": "UuYWTWv_Z-TW",
        "outputId": "23d5c50a-47dc-49e2-8a83-8799bf905076"
      },
      "execution_count": null,
      "outputs": [
        {
          "output_type": "stream",
          "name": "stdout",
          "text": [
            "True\n",
            "False\n",
            "67\n"
          ]
        }
      ]
    },
    {
      "cell_type": "code",
      "source": [
        "#mOm, malayalam\n",
        "a = input(\"eneter the string: \")\n",
        "b = a[::-1]\n",
        "if a.lower() == b.lower():\n",
        "  print(\"yes\")\n",
        "else:\n",
        "  print(\"no\")"
      ],
      "metadata": {
        "colab": {
          "base_uri": "https://localhost:8080/"
        },
        "id": "zZA1pXE9cRyi",
        "outputId": "e6f49ca7-59a0-4c07-e963-dd30aaf8613e"
      },
      "execution_count": null,
      "outputs": [
        {
          "output_type": "stream",
          "name": "stdout",
          "text": [
            "eneter the string: Mom\n",
            "yes\n"
          ]
        }
      ]
    },
    {
      "cell_type": "markdown",
      "source": [
        "#Logical Operator:\n",
        "Logical operaators, also known as \"Boolean Operators\" are:\n",
        "\n",
        " 'and','or','not'\n",
        "\n",
        "It helps to combine multiple conditions into a single Boolean expression.  "
      ],
      "metadata": {
        "id": "POb1OlJ4fjRS"
      }
    },
    {
      "cell_type": "code",
      "source": [
        "#1. and: operator executes programme when all the conditions are true.\n",
        "a = 99\n",
        "b = 80\n",
        "c = 10\n",
        "#write a programme to check a is greater than b and c, similarly c is less than b.\n",
        "if a > b and a > c and c < b:\n",
        "  print(\"All the conditions satisfied\")\n",
        "else:\n",
        "  print(\"condition not satisfied\")\n"
      ],
      "metadata": {
        "colab": {
          "base_uri": "https://localhost:8080/"
        },
        "id": "N_mGSSlZhbgq",
        "outputId": "75923c5f-e481-4c98-a44f-94d0e3adbea6"
      },
      "execution_count": null,
      "outputs": [
        {
          "output_type": "stream",
          "name": "stdout",
          "text": [
            "All the conditions satisfied\n"
          ]
        }
      ]
    },
    {
      "cell_type": "code",
      "source": [
        "#2. or: operator executes the programme if any one condition is satisfied.\n",
        "#check below if any condition is satisfied and than execute the programme.\n",
        "a = 18\n",
        "b = 45\n",
        "#\n",
        "x = 20\n",
        "y = 40\n",
        "z = 60\n",
        "if x > a or x > 45 or y > a or y < b or z > a or z < b:\n",
        "  print(\"condition satisfied\")\n",
        "else:\n",
        "  print(\"none of the condition is satisfied\")"
      ],
      "metadata": {
        "colab": {
          "base_uri": "https://localhost:8080/"
        },
        "id": "AFY3Bu0hl-hW",
        "outputId": "5cd5fd59-4884-4f50-a3ff-c4a80abed065"
      },
      "execution_count": null,
      "outputs": [
        {
          "output_type": "stream",
          "name": "stdout",
          "text": [
            "condition satisfied\n"
          ]
        }
      ]
    },
    {
      "cell_type": "code",
      "source": [
        "a = 50\n",
        "b = 20\n",
        "c = 30\n",
        "d = 60\n",
        "if a < b or c > d or d < a:\n",
        "  print(\"any one of the condition is satisfied\")\n",
        "else:\n",
        "  print(\"none of the condition is satisfied\")"
      ],
      "metadata": {
        "colab": {
          "base_uri": "https://localhost:8080/"
        },
        "id": "qpg5qFe2omUb",
        "outputId": "52639c0c-afa7-4f85-8646-331448aa75a8"
      },
      "execution_count": null,
      "outputs": [
        {
          "output_type": "stream",
          "name": "stdout",
          "text": [
            "none of the condition is satisfied\n"
          ]
        }
      ]
    },
    {
      "cell_type": "code",
      "source": [
        "#3. not operator: Reverse the actual output.\n",
        "print(1==1)\n",
        "print(not(1==1))"
      ],
      "metadata": {
        "colab": {
          "base_uri": "https://localhost:8080/"
        },
        "id": "r8TooSYhpqJr",
        "outputId": "ee424fc0-61c0-4c78-a511-0eaa6725ef68"
      },
      "execution_count": null,
      "outputs": [
        {
          "output_type": "stream",
          "name": "stdout",
          "text": [
            "True\n",
            "False\n"
          ]
        }
      ]
    },
    {
      "cell_type": "markdown",
      "source": [
        "#Nested Condition:-\n",
        "Writing condition inside the condition is known as nested condition, such as writing 'if' condition inside 'if' condition."
      ],
      "metadata": {
        "id": "rwn-Vn4Jqazv"
      }
    },
    {
      "cell_type": "code",
      "source": [
        "#If you want to check a series or range of conditions to print series of outputs.\n",
        "a = 25\n",
        "if a > 10:\n",
        "  print(\"a is greater than 10\")\n",
        "  if a > 20:\n",
        "    print(\"a is greater than 20\")\n",
        "    if a > 30:\n",
        "      print(\"a is greater than 30\")\n",
        "      if a > 40:\n",
        "        print(\"a is greater than 40\")\n",
        "        if a > 50:\n",
        "          print(\"a is greater than 50\")\n",
        "        else:\n",
        "          print(\"a is less than 50\")\n",
        "      else:\n",
        "        print(\"a is less than 40\")\n",
        "    else:\n",
        "      print(\"a is less than 30\")\n",
        "  else:\n",
        "    print(\"a is less than 20\")\n",
        "else:\n",
        "  print(\"a is less than 10\")"
      ],
      "metadata": {
        "colab": {
          "base_uri": "https://localhost:8080/"
        },
        "id": "r6wJE3TxrG5C",
        "outputId": "a7d7322e-da23-4837-99eb-c6ca3226c59b"
      },
      "execution_count": null,
      "outputs": [
        {
          "output_type": "stream",
          "name": "stdout",
          "text": [
            "a is greater than 10\n",
            "a is greater than 20\n",
            "a is less than 30\n"
          ]
        }
      ]
    },
    {
      "cell_type": "code",
      "source": [
        "#Write a programme to print grades along with marks.\n",
        "#if the student is getting\n",
        "#40 to 50 ---> congratulation you have received \"E\" Grade along with ___marks\n",
        "#51 to 60 ---> congratulation you have received \"D\" Grade along with ___marks\n",
        "#61 to 70 ---> congratulation you have received \"C\" Grade along with ___marks\n",
        "#71 to 80 ---> congratulation you have received \"B\" Grade along with ___marks\n",
        "#81 to 90 ---> congratulation you have received \"A\" Grade along with ___marks\n",
        "#91 to 100 ---> congratulation you have received \"O\" Grade along with ___marks\n",
        "#If more than 100 marks ---> \"Don't be smart\"\n",
        "#if less than 40marks print better luck next time you have recived __ marks.\n",
        "#Use the nested if condition along with elif condition.\n",
        "\n",
        "marks = float(input(\"enter the marks:  \"))\n",
        "if marks > 100:\n",
        "  print(\"Don't be smart\")\n",
        "elif marks >= 91:\n",
        "  print(\"congratulation you have received O Grade along with {marks} marks\"),\n",
        "elif marks >= 81:\n",
        "    print(\"congratulation you have received A Grade along with {marks}marks\"),\n",
        "elif marks >= 71:\n",
        "    print(\"congratulation you have received B Grade along with {marks}marks\"),\n",
        "elif marks >= 61:\n",
        "    print(\"congratulation you have received C Grade along with {marks}marks\"),\n",
        "elif marks >= 51:\n",
        "    print(\"congratulation you have received D Grade along with {marks}marks\"),\n",
        "elif marks >= 40:\n",
        "    print(\"congratulation you have received E Grade along with {marks}marks\"),\n",
        "else:\n",
        "     print(\"Better luck next time you have recived {marks} marks.\")\n",
        "\n"
      ],
      "metadata": {
        "colab": {
          "base_uri": "https://localhost:8080/"
        },
        "id": "MIlcoftSAbKO",
        "outputId": "0bc702dc-1129-47a8-af63-e4bcb175a51a"
      },
      "execution_count": null,
      "outputs": [
        {
          "output_type": "stream",
          "name": "stdout",
          "text": [
            "enter the marks:  1000\n",
            "Don't be smart\n"
          ]
        }
      ]
    },
    {
      "cell_type": "code",
      "source": [
        "#Note:-\n",
        "#tw0 condition--> if & else\n",
        "#more than 2 conditions----> if elif else\n",
        "#multiple conditions at a time --> logical operators(and, or , not)\n",
        "#if series of output = nested if condition"
      ],
      "metadata": {
        "id": "oPMmALnpKLyy"
      },
      "execution_count": null,
      "outputs": []
    },
    {
      "cell_type": "code",
      "source": [
        "a = 50\n",
        "b = 20\n",
        "c = 30\n",
        "d = 60\n",
        "if a>b or c > b or d < a:\n",
        "  pass\n",
        "\n",
        "#pass is a null place holder when you execute pass then nothing will happens"
      ],
      "metadata": {
        "id": "Q5jmXuWsKiZj"
      },
      "execution_count": null,
      "outputs": []
    },
    {
      "cell_type": "markdown",
      "source": [
        "#Loops:-\n",
        "\n",
        "Loops are set of instructions, which are used to avoid writing duplicate codes.\n",
        "There are two types of codes:-\n",
        "\n",
        "(i) WET codes:- writing everything twice\n",
        "(ii) DRY codes:- don't repeat yourself\n",
        "\n",
        "And there are two types of loops, They are:-\n",
        "\n",
        "1. While Loop:-\n",
        "2. For Loop:-"
      ],
      "metadata": {
        "id": "vdzCcumGKtDu"
      }
    },
    {
      "cell_type": "markdown",
      "source": [
        "#While Loop:-\n",
        "It is a set of instructions which runs until the condition remains true."
      ],
      "metadata": {
        "id": "HCfsOFtlBoXu"
      }
    },
    {
      "cell_type": "code",
      "source": [
        "target = 5\n",
        "initial = 1\n",
        "while initial <= 5:\n",
        "  print(\"go up\")\n",
        "  print(\"go down\")\n",
        "  print(\"===rep completed===\")\n",
        "  initial = initial+1\n"
      ],
      "metadata": {
        "colab": {
          "base_uri": "https://localhost:8080/"
        },
        "id": "KOcSOXD2CFdz",
        "outputId": "549cae59-b3ee-444f-dc58-7d73deb2469c"
      },
      "execution_count": null,
      "outputs": [
        {
          "output_type": "stream",
          "name": "stdout",
          "text": [
            "go up\n",
            "go down\n",
            "===rep completed===\n",
            "go up\n",
            "go down\n",
            "===rep completed===\n",
            "go up\n",
            "go down\n",
            "===rep completed===\n",
            "go up\n",
            "go down\n",
            "===rep completed===\n",
            "go up\n",
            "go down\n",
            "===rep completed===\n"
          ]
        }
      ]
    },
    {
      "cell_type": "code",
      "source": [
        "#write a simple programme to run a lift if the user is giving 4th, stop the lift at 4th floor.\n",
        "target = int(input(\"enter the floor: \"))\n",
        "initial = 1\n",
        "while initial <= target:\n",
        "  print(f\"You have reached {initial}floor\")\n",
        "  initial = initial+1"
      ],
      "metadata": {
        "colab": {
          "base_uri": "https://localhost:8080/"
        },
        "id": "yCioEyP0Iywg",
        "outputId": "92b97840-994c-4333-9916-5e51824940cd"
      },
      "execution_count": null,
      "outputs": [
        {
          "output_type": "stream",
          "name": "stdout",
          "text": [
            "enter the floor: 4\n",
            "You have reached 1floor\n",
            "You have reached 2floor\n",
            "You have reached 3floor\n",
            "You have reached 4floor\n"
          ]
        }
      ]
    },
    {
      "cell_type": "code",
      "source": [
        "target = int(input(\"enter the floor: \"))\n",
        "initial = 0\n",
        "donotstop = int(input(\"enter floor number: \"))\n",
        "while initial < target:\n",
        "  initial = initial+1\n",
        "  #print(f\"you have reached {initial} floor\")\n",
        "  if initial == donotstop:\n",
        "    continue\n",
        "  print(f\"You have reached {initial}floor\")\n"
      ],
      "metadata": {
        "colab": {
          "base_uri": "https://localhost:8080/"
        },
        "id": "5tFSqvY8KVNn",
        "outputId": "4ec289be-3ec6-4ced-a74a-e8f20a4d56f1"
      },
      "execution_count": null,
      "outputs": [
        {
          "output_type": "stream",
          "name": "stdout",
          "text": [
            "enter the floor: 6\n",
            "enter floor number: 6\n",
            "You have reached 1floor\n",
            "You have reached 2floor\n",
            "You have reached 3floor\n",
            "You have reached 4floor\n",
            "You have reached 5floor\n"
          ]
        }
      ]
    },
    {
      "cell_type": "code",
      "source": [
        "destination = 4\n",
        "floorstart = 0\n",
        "while floorstart < destination:\n",
        "  floorstart = floorstart+1\n",
        "  print(f\"You have reached {floorstart} floor\")"
      ],
      "metadata": {
        "colab": {
          "base_uri": "https://localhost:8080/"
        },
        "id": "TxScHCa1Ntt2",
        "outputId": "07f7d414-ec9e-4f83-d69b-c8a2e1f87aaa"
      },
      "execution_count": null,
      "outputs": [
        {
          "output_type": "stream",
          "name": "stdout",
          "text": [
            "You have reached 1 floor\n",
            "You have reached 2 floor\n",
            "You have reached 3 floor\n",
            "You have reached 4 floor\n"
          ]
        }
      ]
    },
    {
      "cell_type": "code",
      "source": [
        "a = [1,2,3,4]\n",
        "print(a*2)"
      ],
      "metadata": {
        "colab": {
          "base_uri": "https://localhost:8080/"
        },
        "id": "p4z_GbD3OcVJ",
        "outputId": "07f1131e-1cba-4f32-cdf5-e32058082cb2"
      },
      "execution_count": null,
      "outputs": [
        {
          "output_type": "stream",
          "name": "stdout",
          "text": [
            "[1, 2, 3, 4, 1, 2, 3, 4]\n"
          ]
        }
      ]
    },
    {
      "cell_type": "code",
      "source": [
        "#To get multiples of 2 in 'a'\n",
        "for i in a:\n",
        "  print(i*2, end=\"@\")"
      ],
      "metadata": {
        "colab": {
          "base_uri": "https://localhost:8080/"
        },
        "id": "hSPiWuaPOt5V",
        "outputId": "b1b3f171-eeda-4032-c524-250435efc5bb"
      },
      "execution_count": null,
      "outputs": [
        {
          "output_type": "stream",
          "name": "stdout",
          "text": [
            "2@4@6@8@"
          ]
        }
      ]
    },
    {
      "cell_type": "code",
      "source": [
        "user = int(input(\"enter the floor number: \"))\n",
        "initial = 0\n",
        "while initial < user:\n",
        "  initial = initial+1\n",
        "  print(f\"you have reached: \",initial)"
      ],
      "metadata": {
        "colab": {
          "base_uri": "https://localhost:8080/"
        },
        "id": "xiSAcmCNPYgL",
        "outputId": "79f79f4e-63f3-421b-f62f-1ef7fe63f653"
      },
      "execution_count": null,
      "outputs": [
        {
          "output_type": "stream",
          "name": "stdout",
          "text": [
            "enter the floor number: 9\n",
            "you have reached:  1\n",
            "you have reached:  2\n",
            "you have reached:  3\n",
            "you have reached:  4\n",
            "you have reached:  5\n",
            "you have reached:  6\n",
            "you have reached:  7\n",
            "you have reached:  8\n",
            "you have reached:  9\n"
          ]
        }
      ]
    },
    {
      "cell_type": "code",
      "source": [
        "#Note:-\n",
        "#Break:- It terminates or stop the loop irrespective of data or items. Using break statement in while use logical or count after the break statement.\n",
        "user = int(input(\"enter the floor number: \"))\n",
        "intial = 0\n",
        "exit = int(input(\"enter the floor: \"))\n",
        "while intial < user:\n",
        "  if intial == exit:\n",
        "    break\n",
        "  intial = intial+1\n",
        "  print(\"you are at: \",intial)\n"
      ],
      "metadata": {
        "colab": {
          "base_uri": "https://localhost:8080/"
        },
        "id": "bSWbTnAoKrNU",
        "outputId": "6716ebc1-ee07-49f7-bfb9-90a21e11c116"
      },
      "execution_count": null,
      "outputs": [
        {
          "output_type": "stream",
          "name": "stdout",
          "text": [
            "enter the floor number: 6\n",
            "enter the floor: 4\n",
            "you are at:  1\n",
            "you are at:  2\n",
            "you are at:  3\n",
            "you are at:  4\n"
          ]
        }
      ]
    },
    {
      "cell_type": "code",
      "source": [
        "#Similarly take an example if the user do not want to stop the lift at 2nd floor.\n",
        "#Note:- Continue is used to skip the current iteration, While using 'Continue' keyword in the 'while loop', use logic before the continue."
      ],
      "metadata": {
        "id": "Y8PRh9vZMy3i"
      },
      "execution_count": null,
      "outputs": []
    },
    {
      "cell_type": "code",
      "source": [
        "user = int(input(\"enter the floor: \"))\n",
        "intial = 0\n",
        "dstop = int(input(\"enter the floor number: \"))\n",
        "while intial < user:\n",
        "  intial = intial+1\n",
        "  if intial == dstop:\n",
        "    continue\n",
        "  print(\"you are at floor: \", intial)\n"
      ],
      "metadata": {
        "colab": {
          "base_uri": "https://localhost:8080/"
        },
        "id": "ecyf95myNztT",
        "outputId": "88685f49-7036-4eb3-bc17-dc2e5b680faf"
      },
      "execution_count": null,
      "outputs": [
        {
          "output_type": "stream",
          "name": "stdout",
          "text": [
            "enter the floor: 6\n",
            "enter the floor number: 2\n",
            "you are at floor:  1\n",
            "you are at floor:  3\n",
            "you are at floor:  4\n",
            "you are at floor:  5\n",
            "you are at floor:  6\n"
          ]
        }
      ]
    },
    {
      "cell_type": "code",
      "source": [
        "target = 10\n",
        "intial = 1\n",
        "while intial <= target:\n",
        "  print(intial, end= \",\")\n",
        "  intial = intial * 2"
      ],
      "metadata": {
        "colab": {
          "base_uri": "https://localhost:8080/"
        },
        "id": "ZVFdRb-7PQjy",
        "outputId": "ad706a93-2b7e-49f8-a2b8-a578533fca89"
      },
      "execution_count": null,
      "outputs": [
        {
          "output_type": "stream",
          "name": "stdout",
          "text": [
            "1,2,4,8,"
          ]
        }
      ]
    },
    {
      "cell_type": "markdown",
      "source": [
        "#For Loop:-\n",
        "Runs a set of rules or set of collection over each and every element of collection."
      ],
      "metadata": {
        "id": "HZkr3dH5Pc69"
      }
    },
    {
      "cell_type": "code",
      "source": [
        "a = [1,2,3,4,5,6,7,8,9]\n",
        "# print multiples of two from a.\n",
        "for i in a:\n",
        "   print(i*2,end=\",\")\n",
        "   #Note: \"i\" is known as iterator and the process of going after each and every element is known as iteration."
      ],
      "metadata": {
        "colab": {
          "base_uri": "https://localhost:8080/"
        },
        "id": "TkbnM3pqsHeZ",
        "outputId": "65f9caeb-1e29-4d35-e394-453f3cd963cc"
      },
      "execution_count": null,
      "outputs": [
        {
          "output_type": "stream",
          "name": "stdout",
          "text": [
            "2,4,6,8,10,12,14,16,18,"
          ]
        }
      ]
    },
    {
      "cell_type": "code",
      "source": [
        "a = [1,2,3,4,5,6,7,8,9,10,11,12,13]\n",
        "for i in a:\n",
        "  if i == 10 or i == 11:\n",
        "    break\n",
        "  print(i,end=\" \")\n",
        "#Note: we cannot do multiple breaks.\n"
      ],
      "metadata": {
        "colab": {
          "base_uri": "https://localhost:8080/"
        },
        "id": "x5daInyLt5D7",
        "outputId": "9e04fce9-4337-48d7-d1b1-618bce7093b2"
      },
      "execution_count": null,
      "outputs": [
        {
          "output_type": "stream",
          "name": "stdout",
          "text": [
            "1 2 3 4 5 6 7 8 9 "
          ]
        }
      ]
    },
    {
      "cell_type": "code",
      "source": [
        "b = [1,2,3,4,5,6,7,8,9,10,11,12,13,14,15]\n",
        "for i in b:\n",
        "  if i == 9 or i == 11 or i == 14:\n",
        "    continue\n",
        "  print(i,end=\" \")\n",
        "  #Note: We can skip multiple iterations by using or"
      ],
      "metadata": {
        "colab": {
          "base_uri": "https://localhost:8080/"
        },
        "id": "oX5wZ5qzwPIe",
        "outputId": "84066a4d-7530-44ca-8e2e-134f31261a2b"
      },
      "execution_count": null,
      "outputs": [
        {
          "output_type": "stream",
          "name": "stdout",
          "text": [
            "1 2 3 4 5 6 7 8 10 12 13 15 "
          ]
        }
      ]
    },
    {
      "cell_type": "markdown",
      "source": [
        "#Collection:-\n",
        "Collection in Python are basically container data types. In Collection the data can be stored in two types, They are:-\n",
        "\n",
        "(i) Heterogeneous data: If the collection is having multiple dtypes like (int,float,string,...etc) it is known as heterogeneous data.\n",
        "(ii) Homogeneous data: If the collection is having single dtype either int or float then it is known as homogeneous data.\n",
        "\n",
        "**There are four types of Collections:**\n",
        "\n",
        "1) List\n",
        "\n",
        "2) Tuple\n",
        "\n",
        "3) Set\n",
        "\n",
        "4) Dictionary\n"
      ],
      "metadata": {
        "id": "4wB2zByO6KGy"
      }
    },
    {
      "cell_type": "markdown",
      "source": [
        "#List:-\n",
        "--> List is ordered (items in the list are having a sequence of index position number).\n",
        "\n",
        "--> Mutable[Changeable(swap or replace the data in the list and add new items to the list - remove items from the list)].\n",
        "\n",
        "--> Allows the duplicate.\n",
        "\n",
        "--> A list can be declared by square brackets [] and can be separated by comma (,).\n"
      ],
      "metadata": {
        "id": "1T1shuV98T4h"
      }
    },
    {
      "cell_type": "markdown",
      "source": [
        "#List allows the duplictes"
      ],
      "metadata": {
        "id": "W5h699Pp-kVo"
      }
    },
    {
      "cell_type": "code",
      "source": [
        "l1 = [\"apple\",\"pineapple\",\"watermelon\",\"orange\",\"apple\",\"grapes\"]\n",
        "print(type(l1))\n",
        "print(len(l1))\n",
        "print(l1)"
      ],
      "metadata": {
        "colab": {
          "base_uri": "https://localhost:8080/"
        },
        "id": "95nqtdz18SGs",
        "outputId": "44e6afe0-376e-40ac-8c06-dc0bc6f09dea"
      },
      "execution_count": null,
      "outputs": [
        {
          "output_type": "stream",
          "name": "stdout",
          "text": [
            "<class 'list'>\n",
            "6\n",
            "['apple', 'pineapple', 'watermelon', 'orange', 'apple', 'grapes']\n"
          ]
        }
      ]
    },
    {
      "cell_type": "markdown",
      "source": [
        "#List is ordered"
      ],
      "metadata": {
        "id": "6PVEWhEx_c8S"
      }
    },
    {
      "cell_type": "code",
      "source": [
        "#From the above list print \"pineapple\"\n",
        "print(l1[1])"
      ],
      "metadata": {
        "id": "zAR2WQUG59eU",
        "colab": {
          "base_uri": "https://localhost:8080/"
        },
        "outputId": "2763bad2-4ed4-4507-b211-03c726e1be67"
      },
      "execution_count": null,
      "outputs": [
        {
          "output_type": "stream",
          "name": "stdout",
          "text": [
            "pineapple\n"
          ]
        }
      ]
    },
    {
      "cell_type": "code",
      "source": [
        "#print the range of item from 'apple to orange'\n",
        "print(l1[0:4])\n",
        "\n",
        "#Note:- Slicing will be stopped before one step exact from the end index position number."
      ],
      "metadata": {
        "colab": {
          "base_uri": "https://localhost:8080/"
        },
        "id": "Fb4vimdR8mKn",
        "outputId": "f35ef4c1-364c-4831-b24d-72fb24b63d5a"
      },
      "execution_count": null,
      "outputs": [
        {
          "output_type": "stream",
          "name": "stdout",
          "text": [
            "['apple', 'pineapple', 'watermelon', 'orange']\n"
          ]
        }
      ]
    },
    {
      "cell_type": "code",
      "source": [
        "#Print the even positional items from the above list l1\n",
        "print(l1[0:6:2])\n",
        "#or\n",
        "print(l1[::2])\n",
        "#reverse the entire list\n",
        "print(l1[::-1])"
      ],
      "metadata": {
        "colab": {
          "base_uri": "https://localhost:8080/"
        },
        "id": "SK67AIxx9ZaI",
        "outputId": "46fa3ebe-0c44-44dc-f601-5465ab603af3"
      },
      "execution_count": null,
      "outputs": [
        {
          "output_type": "stream",
          "name": "stdout",
          "text": [
            "['apple', 'watermelon', 'apple']\n",
            "['apple', 'watermelon', 'apple']\n",
            "['grapes', 'apple', 'orange', 'watermelon', 'pineapple', 'apple']\n"
          ]
        }
      ]
    },
    {
      "cell_type": "markdown",
      "source": [
        "#List is mutable"
      ],
      "metadata": {
        "id": "MKBLJjGl-mpN"
      }
    },
    {
      "cell_type": "code",
      "source": [
        "#We can swap or replace the data in list by using the index position number\n",
        "#Replace 2nd apple with chiku in the list l1\n",
        "l1[4]=\"chiku\"\n",
        "print(l1)"
      ],
      "metadata": {
        "colab": {
          "base_uri": "https://localhost:8080/"
        },
        "id": "1W5OBjQq-ccu",
        "outputId": "48c4dab4-e15f-4eaa-db8e-3e1f0e9f91ed"
      },
      "execution_count": null,
      "outputs": [
        {
          "output_type": "stream",
          "name": "stdout",
          "text": [
            "['apple', 'pineapple', 'watermelon', 'orange', 'chiku', 'grapes']\n"
          ]
        }
      ]
    },
    {
      "cell_type": "code",
      "source": [
        "l1[4:] = \"kiwi\",\"dragon fruit\"\n",
        "l1"
      ],
      "metadata": {
        "colab": {
          "base_uri": "https://localhost:8080/"
        },
        "id": "LBI-He0r_1D-",
        "outputId": "5f2a0250-257f-408f-c732-cdc3f3b36c74"
      },
      "execution_count": null,
      "outputs": [
        {
          "output_type": "execute_result",
          "data": {
            "text/plain": [
              "['apple', 'pineapple', 'watermelon', 'orange', 'kiwi', 'dragon fruit']"
            ]
          },
          "metadata": {},
          "execution_count": 11
        }
      ]
    },
    {
      "cell_type": "code",
      "source": [
        "l1[2:4] = \"cranberry\", \"mango\", \"chiku\"\n",
        "l1"
      ],
      "metadata": {
        "colab": {
          "base_uri": "https://localhost:8080/"
        },
        "id": "fjEjkuFIBkQ6",
        "outputId": "31c58bca-b27d-46a3-ecea-5f19c92fd8f3"
      },
      "execution_count": null,
      "outputs": [
        {
          "output_type": "execute_result",
          "data": {
            "text/plain": [
              "['apple', 'pineapple', 'cranberry', 'mango', 'chiku', 'kiwi', 'dragon fruit']"
            ]
          },
          "metadata": {},
          "execution_count": 12
        }
      ]
    },
    {
      "cell_type": "code",
      "source": [
        "l2 = ['apple', 'banana', 'pineapple', 'orange', 'grapes', 'lemon']\n",
        "l2[2:4] = \"lemon\",\"watermelon\",\"mango\",\"muskmelon\"\n",
        "l2"
      ],
      "metadata": {
        "colab": {
          "base_uri": "https://localhost:8080/"
        },
        "id": "CaMwaS22CMrI",
        "outputId": "ce530d41-32a5-498d-f425-671edef4e44f"
      },
      "execution_count": null,
      "outputs": [
        {
          "output_type": "execute_result",
          "data": {
            "text/plain": [
              "['apple',\n",
              " 'banana',\n",
              " 'lemon',\n",
              " 'watermelon',\n",
              " 'mango',\n",
              " 'muskmelon',\n",
              " 'grapes',\n",
              " 'lemon']"
            ]
          },
          "metadata": {},
          "execution_count": 18
        }
      ]
    },
    {
      "cell_type": "code",
      "source": [
        "l3 = ['a', 'b', 'c', 'd']\n",
        "l3[1:3] = \"e\",\"f\",\"g\"\n",
        "l3"
      ],
      "metadata": {
        "colab": {
          "base_uri": "https://localhost:8080/"
        },
        "id": "gPElqG0oCUq5",
        "outputId": "d740b992-9231-449c-d433-45e02279d894"
      },
      "execution_count": null,
      "outputs": [
        {
          "output_type": "execute_result",
          "data": {
            "text/plain": [
              "['a', 'e', 'f', 'g', 'd']"
            ]
          },
          "metadata": {},
          "execution_count": 15
        }
      ]
    },
    {
      "cell_type": "code",
      "source": [
        "a4 = ['apple', 'banana', 'orange', 'mango', 'chiku']\n",
        "a4[2:4] = \"watermelon\",\"pineapple\",\"strawberry\"\n",
        "a4"
      ],
      "metadata": {
        "colab": {
          "base_uri": "https://localhost:8080/"
        },
        "id": "VNTpiQl7DHiu",
        "outputId": "22db3b11-6a24-40b1-ac95-943cfcea30a9"
      },
      "execution_count": null,
      "outputs": [
        {
          "output_type": "execute_result",
          "data": {
            "text/plain": [
              "['apple', 'banana', 'watermelon', 'pineapple', 'strawberry', 'chiku']"
            ]
          },
          "metadata": {},
          "execution_count": 19
        }
      ]
    },
    {
      "cell_type": "markdown",
      "source": [
        "**Note**: we can change the range of items in the list.  \n",
        "l[start_index:end_index] but this is a bad practice\n",
        "if we give more than the index range items it changes or replace the items with\n",
        "existing index items so the index positions of characters can be changed"
      ],
      "metadata": {
        "id": "DNIctVkOE_oe"
      }
    },
    {
      "cell_type": "markdown",
      "source": [
        "#Addding New Items to the list"
      ],
      "metadata": {
        "id": "2P-I84LNHU5J"
      }
    },
    {
      "cell_type": "code",
      "source": [
        "l5 = [\"apple\", \"orange\", \"pineapple\", \"chiku\", \"watermelon\"]\n",
        "print(dir(l5)) #used to return method that are applicable on the object."
      ],
      "metadata": {
        "id": "8TfvXaoNHapn",
        "colab": {
          "base_uri": "https://localhost:8080/"
        },
        "outputId": "2270d98f-81e3-4e78-86ee-173dba91506b"
      },
      "execution_count": null,
      "outputs": [
        {
          "output_type": "stream",
          "name": "stdout",
          "text": [
            "['__add__', '__class__', '__class_getitem__', '__contains__', '__delattr__', '__delitem__', '__dir__', '__doc__', '__eq__', '__format__', '__ge__', '__getattribute__', '__getitem__', '__getstate__', '__gt__', '__hash__', '__iadd__', '__imul__', '__init__', '__init_subclass__', '__iter__', '__le__', '__len__', '__lt__', '__mul__', '__ne__', '__new__', '__reduce__', '__reduce_ex__', '__repr__', '__reversed__', '__rmul__', '__setattr__', '__setitem__', '__sizeof__', '__str__', '__subclasshook__', 'append', 'clear', 'copy', 'count', 'extend', 'index', 'insert', 'pop', 'remove', 'reverse', 'sort']\n"
          ]
        }
      ]
    },
    {
      "cell_type": "code",
      "source": [
        "\"\"\"'append', 'clear', 'copy', 'count', 'extend', 'index',\n",
        "'insert', 'pop', 'remove', 'reverse', 'sort' \"\"\""
      ],
      "metadata": {
        "id": "FoeeoO7IrMxu"
      },
      "execution_count": null,
      "outputs": []
    },
    {
      "cell_type": "code",
      "source": [
        "l5 = [\"apple\", \"orange\", \"pineapple\", \"chiku\", \"watermelon\"]\n",
        "#append: By default it adds the items at the end or last of the list\n",
        "#add mango in the list l5\n",
        "l5.append(\"mango\")\n",
        "print(l5)\n",
        "#Note: We cannnot add more than one item in the list by using append."
      ],
      "metadata": {
        "colab": {
          "base_uri": "https://localhost:8080/"
        },
        "id": "tqCVqhqYrU3i",
        "outputId": "bc95f2a9-9759-4b64-e8b7-28107f9d5ce9"
      },
      "execution_count": null,
      "outputs": [
        {
          "output_type": "stream",
          "name": "stdout",
          "text": [
            "['apple', 'orange', 'pineapple', 'chiku', 'watermelon', 'mango']\n"
          ]
        }
      ]
    },
    {
      "cell_type": "code",
      "source": [
        "#How to add an item at a particular index position?\n",
        "#insert(index,\"item_name\")\n",
        "#add \"kiwi\" at 2nd index position number\n",
        "l5.insert(2,\"kiwi\")\n",
        "print(l5)\n",
        "#note: we cannot insert multiple items at a time because insert takes only two arguments."
      ],
      "metadata": {
        "colab": {
          "base_uri": "https://localhost:8080/"
        },
        "id": "JiJkHZlGse7K",
        "outputId": "e1b1b691-c429-48ce-cec7-69115468d352"
      },
      "execution_count": null,
      "outputs": [
        {
          "output_type": "stream",
          "name": "stdout",
          "text": [
            "['apple', 'orange', 'kiwi', 'kiwi', 'kiwi', 'pineapple', 'chiku', 'watermelon', 'mango']\n"
          ]
        }
      ]
    },
    {
      "cell_type": "code",
      "source": [
        "#extend(collection name):- add multiple items to the list\n",
        "#By default extend method adds items at the end of the list\n",
        "l6 = [\"biryani\", \"haleem\", \"1\",\"2\",\"3\",\"a\"]\n",
        "l5.extend(l6)\n",
        "l5"
      ],
      "metadata": {
        "colab": {
          "base_uri": "https://localhost:8080/"
        },
        "id": "jHPlAZR1uon1",
        "outputId": "f680efa4-643d-45f9-ae2f-504458887003"
      },
      "execution_count": null,
      "outputs": [
        {
          "output_type": "execute_result",
          "data": {
            "text/plain": [
              "['apple',\n",
              " 'orange',\n",
              " 'kiwi',\n",
              " 'kiwi',\n",
              " 'kiwi',\n",
              " 'pineapple',\n",
              " 'chiku',\n",
              " 'watermelon',\n",
              " 'mango',\n",
              " 'biryani',\n",
              " 'haleem',\n",
              " '1',\n",
              " '2',\n",
              " '3',\n",
              " 'a',\n",
              " 'biryani',\n",
              " 'haleem',\n",
              " '1',\n",
              " '2',\n",
              " '3',\n",
              " 'a',\n",
              " 'biryani',\n",
              " 'haleem',\n",
              " '1',\n",
              " '2',\n",
              " '3',\n",
              " 'a']"
            ]
          },
          "metadata": {},
          "execution_count": 8
        }
      ]
    },
    {
      "cell_type": "code",
      "source": [
        "l5[0] = \"banana\"\n",
        "print(l5)"
      ],
      "metadata": {
        "colab": {
          "base_uri": "https://localhost:8080/"
        },
        "id": "MO7IPDadwBro",
        "outputId": "ef421230-ce37-430a-8d96-1db1d1f77890"
      },
      "execution_count": null,
      "outputs": [
        {
          "output_type": "stream",
          "name": "stdout",
          "text": [
            "['banana', 'orange', 'kiwi', 'kiwi', 'kiwi', 'pineapple', 'chiku', 'watermelon', 'mango', 'biryani', 'haleem', '1', '2', '3', 'a', 'biryani', 'haleem', '1', '2', '3', 'a', 'biryani', 'haleem', '1', '2', '3', 'a']\n"
          ]
        }
      ]
    },
    {
      "cell_type": "markdown",
      "source": [
        "#Remove items from the list"
      ],
      "metadata": {
        "id": "vN0XP6rIyJ19"
      }
    },
    {
      "cell_type": "code",
      "source": [
        "l7 = ['berries', 'kiwi', 'apple', 'banana', 'watermelon', 'pineapple', 'orange', 'grapes', 'lemmon', 'mango']\n",
        "#pop(index_position_number): by default it removes last item from the list.\n",
        "l7.pop()\n",
        "print(l7)"
      ],
      "metadata": {
        "colab": {
          "base_uri": "https://localhost:8080/"
        },
        "id": "6sJkJfphyOAD",
        "outputId": "0415dc77-c9ea-43bc-a69c-7dd5fe067c28"
      },
      "execution_count": null,
      "outputs": [
        {
          "output_type": "stream",
          "name": "stdout",
          "text": [
            "['berries', 'kiwi', 'apple', 'banana', 'watermelon', 'pineapple', 'orange', 'grapes', 'lemmon']\n"
          ]
        }
      ]
    },
    {
      "cell_type": "code",
      "source": [
        "l7.pop(0)\n",
        "l7"
      ],
      "metadata": {
        "colab": {
          "base_uri": "https://localhost:8080/"
        },
        "id": "GWc4H7y1zIBf",
        "outputId": "6fed0b59-fd66-4b8d-c7e9-943bb8ebd446"
      },
      "execution_count": null,
      "outputs": [
        {
          "output_type": "execute_result",
          "data": {
            "text/plain": [
              "['kiwi',\n",
              " 'apple',\n",
              " 'banana',\n",
              " 'watermelon',\n",
              " 'pineapple',\n",
              " 'orange',\n",
              " 'grapes',\n",
              " 'lemmon']"
            ]
          },
          "metadata": {},
          "execution_count": 11
        }
      ]
    },
    {
      "cell_type": "code",
      "source": [
        "#To remove multiple items from the list\n",
        "#use del collection_name[startindex:endindex]\n",
        "del l7[1:4]\n",
        "print(l7)\n",
        "#to delete even positional items [::2]\n",
        "#to delete odd positional items [1::2]"
      ],
      "metadata": {
        "colab": {
          "base_uri": "https://localhost:8080/"
        },
        "id": "WQgQtJHNzTiD",
        "outputId": "b5d15c68-223e-4a39-9345-25e71709003d"
      },
      "execution_count": null,
      "outputs": [
        {
          "output_type": "stream",
          "name": "stdout",
          "text": [
            "['kiwi', 'pineapple', 'orange', 'grapes', 'lemmon']\n"
          ]
        }
      ]
    },
    {
      "cell_type": "code",
      "source": [
        "l8 = ['kiwi', 'apple', 'banana', 'pineapple', 'orange', 'grapes']\n",
        "del l8[1::2]\n",
        "print(l8)"
      ],
      "metadata": {
        "colab": {
          "base_uri": "https://localhost:8080/"
        },
        "id": "egR3QR1e0Xd3",
        "outputId": "4ca9e084-b7a7-4f9a-ccc6-1007382581e5"
      },
      "execution_count": null,
      "outputs": [
        {
          "output_type": "stream",
          "name": "stdout",
          "text": [
            "['kiwi', 'banana', 'orange']\n"
          ]
        }
      ]
    },
    {
      "cell_type": "code",
      "source": [
        "#To clear entire data from the list\n",
        "l8.clear()\n",
        "l8"
      ],
      "metadata": {
        "colab": {
          "base_uri": "https://localhost:8080/"
        },
        "id": "ylEWErJn0pjW",
        "outputId": "33da2fd2-219b-4137-9ff1-15e5b49e3358"
      },
      "execution_count": null,
      "outputs": [
        {
          "output_type": "execute_result",
          "data": {
            "text/plain": [
              "[]"
            ]
          },
          "metadata": {},
          "execution_count": 14
        }
      ]
    },
    {
      "cell_type": "code",
      "source": [
        "l9 = [\"a\",\"ab\",\"abc\",\"abcd\"]\n",
        "print (l9)"
      ],
      "metadata": {
        "colab": {
          "base_uri": "https://localhost:8080/"
        },
        "id": "QYXGjuI_072J",
        "outputId": "0d20062a-f83a-4e07-daea-91755ef13c11"
      },
      "execution_count": null,
      "outputs": [
        {
          "output_type": "stream",
          "name": "stdout",
          "text": [
            "['a', 'ab', 'abc', 'abcd']\n"
          ]
        }
      ]
    },
    {
      "cell_type": "markdown",
      "source": [
        "#Tuples:-\n",
        "Tuple can be declared by () and each item is separated by ,\n",
        "\n",
        "-->Tuple is defined as ordered, immutable(unchangeable), allows the duplicate, it is a collection of elements enclosed in parantheses and used to store multiple items."
      ],
      "metadata": {
        "id": "120PUZt82PTQ"
      }
    },
    {
      "cell_type": "markdown",
      "source": [
        "#Tuple allows the duplicate"
      ],
      "metadata": {
        "id": "QaRwKaQc7tH9"
      }
    },
    {
      "cell_type": "code",
      "source": [
        "t1 = ('kiwi', 'apple', 'banana', 'pineapple', 'orange', 'grapes','kiwi','apple')\n",
        "print(len(t1))\n",
        "print(type(t1))"
      ],
      "metadata": {
        "colab": {
          "base_uri": "https://localhost:8080/"
        },
        "id": "zdI7snT077o0",
        "outputId": "2e0ca8d8-3269-4f3c-f5ed-d7bb7e9620d7"
      },
      "execution_count": null,
      "outputs": [
        {
          "output_type": "stream",
          "name": "stdout",
          "text": [
            "8\n",
            "<class 'tuple'>\n"
          ]
        }
      ]
    },
    {
      "cell_type": "markdown",
      "source": [
        "#Tuple is Ordered"
      ],
      "metadata": {
        "id": "-Xmh2UkN8QnD"
      }
    },
    {
      "cell_type": "code",
      "source": [
        "#Each position in Tuple is having index position number\n",
        "print(t1[2])\n",
        "print(t1[-1])\n",
        "#print only banana,pineapple,orange,grapes\n",
        "print(t1[2:6])\n",
        "#only even positional items\n",
        "print(t1[::2])\n",
        "#print only odd postional items\n",
        "print(t1[1::2])\n",
        "#reverse t1\n",
        "print(t1[::-1])"
      ],
      "metadata": {
        "colab": {
          "base_uri": "https://localhost:8080/"
        },
        "id": "QeDYithh8UH2",
        "outputId": "fe227cd2-1663-4e8b-e2fa-31cbfadfc44f"
      },
      "execution_count": null,
      "outputs": [
        {
          "output_type": "stream",
          "name": "stdout",
          "text": [
            "banana\n",
            "apple\n",
            "('banana', 'pineapple', 'orange', 'grapes')\n",
            "('kiwi', 'banana', 'orange', 'kiwi')\n",
            "('apple', 'pineapple', 'grapes', 'apple')\n",
            "('apple', 'kiwi', 'grapes', 'orange', 'pineapple', 'banana', 'apple', 'kiwi')\n"
          ]
        }
      ]
    },
    {
      "cell_type": "markdown",
      "source": [
        "#Tuple is Immutable"
      ],
      "metadata": {
        "id": "4EHUGOTK9yhV"
      }
    },
    {
      "cell_type": "code",
      "source": [
        "#we cannot remove, add or replace the items in tuple\n",
        "print(dir(t1))\n",
        "#count, Index"
      ],
      "metadata": {
        "colab": {
          "base_uri": "https://localhost:8080/"
        },
        "id": "Jhxgddq895Dv",
        "outputId": "237026e9-f246-4136-b8f3-89bfe08b31a6"
      },
      "execution_count": null,
      "outputs": [
        {
          "output_type": "stream",
          "name": "stdout",
          "text": [
            "['__add__', '__class__', '__class_getitem__', '__contains__', '__delattr__', '__dir__', '__doc__', '__eq__', '__format__', '__ge__', '__getattribute__', '__getitem__', '__getnewargs__', '__getstate__', '__gt__', '__hash__', '__init__', '__init_subclass__', '__iter__', '__le__', '__len__', '__lt__', '__mul__', '__ne__', '__new__', '__reduce__', '__reduce_ex__', '__repr__', '__rmul__', '__setattr__', '__sizeof__', '__str__', '__subclasshook__', 'count', 'index']\n"
          ]
        }
      ]
    },
    {
      "cell_type": "markdown",
      "source": [
        "#Sets:\n",
        "Set is declared by {} and each item in the set is separated by comma(,). Set is unordered, immutable and does not allow the duplicate.\n",
        "\n",
        "\n",
        "\n",
        "2.  ex:- s3 = {2,3,4,5,6,7,8,9,1}\n",
        "-->s3.add(10)\n",
        "-->print(s3)\n",
        "^^^ Add multiple items in the set- it can be added by using \"update\"\n",
        "ex:- s5 = {'banana', ' kiwi','apple'}\n",
        "s6 = {1,2,3,4,5}\n",
        "--> s.5update(s6)\n",
        "-->print(s5)\n",
        "3.\n",
        "\n",
        "** To delete the entire set -- And we cannot delete the range of uitems from the sets.\n",
        "del\" set name\"\n",
        "print(setname)\n",
        "\n"
      ],
      "metadata": {
        "id": "QX9DXsuX1CD5"
      }
    },
    {
      "cell_type": "markdown",
      "source": [
        "#Set won't allow duplicate:\n",
        "In sets we cannot replace or swap the items. We cannnot replace the items in the set because sets are unordered as the items in the sets doesn't have index position number."
      ],
      "metadata": {
        "id": "KQDVeil-DbUW"
      }
    },
    {
      "cell_type": "code",
      "source": [
        "s1 = {1,2,3,4,5,6,7,1,2,3,4,5,9}\n",
        "#what is length of s1\n",
        "print(len(s1))\n",
        "print(type(s1))\n",
        "print(s1)"
      ],
      "metadata": {
        "colab": {
          "base_uri": "https://localhost:8080/"
        },
        "id": "yUK3G9jYD-VZ",
        "outputId": "cecc93a3-e5db-448a-e9e3-3af01fa20cd8"
      },
      "execution_count": null,
      "outputs": [
        {
          "output_type": "stream",
          "name": "stdout",
          "text": [
            "8\n",
            "<class 'set'>\n",
            "{1, 2, 3, 4, 5, 6, 7, 9}\n"
          ]
        }
      ]
    },
    {
      "cell_type": "markdown",
      "source": [
        "#Set is unordered:\n"
      ],
      "metadata": {
        "id": "wZRZ7kUrEWcM"
      }
    },
    {
      "cell_type": "code",
      "source": [
        "s2={'apple',\"bananan\",\"kiwi\"}\n",
        "print(s2[0]) #'set' object is not subscriptable"
      ],
      "metadata": {
        "colab": {
          "base_uri": "https://localhost:8080/",
          "height": 158
        },
        "id": "b29Y43XeEmZ4",
        "outputId": "51799519-2825-4c33-a799-8553a64bea8d"
      },
      "execution_count": null,
      "outputs": [
        {
          "output_type": "error",
          "ename": "TypeError",
          "evalue": "'set' object is not subscriptable",
          "traceback": [
            "\u001b[0;31m---------------------------------------------------------------------------\u001b[0m",
            "\u001b[0;31mTypeError\u001b[0m                                 Traceback (most recent call last)",
            "\u001b[0;32m<ipython-input-2-28be9f95f84e>\u001b[0m in \u001b[0;36m<cell line: 0>\u001b[0;34m()\u001b[0m\n\u001b[1;32m      1\u001b[0m \u001b[0ms2\u001b[0m\u001b[0;34m=\u001b[0m\u001b[0;34m{\u001b[0m\u001b[0;34m'apple'\u001b[0m\u001b[0;34m,\u001b[0m\u001b[0;34m\"bananan\"\u001b[0m\u001b[0;34m,\u001b[0m\u001b[0;34m\"kiwi\"\u001b[0m\u001b[0;34m}\u001b[0m\u001b[0;34m\u001b[0m\u001b[0;34m\u001b[0m\u001b[0m\n\u001b[0;32m----> 2\u001b[0;31m \u001b[0mprint\u001b[0m\u001b[0;34m(\u001b[0m\u001b[0ms2\u001b[0m\u001b[0;34m[\u001b[0m\u001b[0;36m0\u001b[0m\u001b[0;34m]\u001b[0m\u001b[0;34m)\u001b[0m \u001b[0;31m#'set' object is not subscriptable\u001b[0m\u001b[0;34m\u001b[0m\u001b[0;34m\u001b[0m\u001b[0m\n\u001b[0m",
            "\u001b[0;31mTypeError\u001b[0m: 'set' object is not subscriptable"
          ]
        }
      ]
    },
    {
      "cell_type": "markdown",
      "source": [
        "#It is Immutable:\n",
        "--> In set we cannot replace or swap the items.\n",
        "\n",
        "--> But we can add the new items or data to the sets. --- to check methods \"print(dir(setname))\". # add method : add() in sets if we add the data it doesn't have any index position and it can be stored anywhere in the set.\n",
        "\n",
        "--> And we can remove the elements from the sets. --- there are two types of method -- \"remove method\" and \"discard method\".\n",
        "\n",
        " 1) Remove method - if the item or data is present it removes the item, If the item is not present it raises an error.\n",
        "\n",
        "2) Discard - If the items are present or not it wont raise an error and if the item is present it removes the item."
      ],
      "metadata": {
        "id": "-4gpi80W_3Fz"
      }
    },
    {
      "cell_type": "code",
      "source": [
        "#We cannot replace or swap items in set\n",
        "s2 ={\"python\",\"java\",\"c++\",\"c\",\"c\",\"c\"}\n",
        "print(len(s2))\n",
        "s2[4] = 'R'\n",
        "print(s2)"
      ],
      "metadata": {
        "colab": {
          "base_uri": "https://localhost:8080/",
          "height": 211
        },
        "id": "sqPssKUhGLbe",
        "outputId": "2464ab1c-cdb5-4aa7-c339-d0c0ede54e52"
      },
      "execution_count": null,
      "outputs": [
        {
          "output_type": "stream",
          "name": "stdout",
          "text": [
            "4\n"
          ]
        },
        {
          "output_type": "error",
          "ename": "TypeError",
          "evalue": "'set' object does not support item assignment",
          "traceback": [
            "\u001b[0;31m---------------------------------------------------------------------------\u001b[0m",
            "\u001b[0;31mTypeError\u001b[0m                                 Traceback (most recent call last)",
            "\u001b[0;32m<ipython-input-3-4874caf5a502>\u001b[0m in \u001b[0;36m<cell line: 0>\u001b[0;34m()\u001b[0m\n\u001b[1;32m      1\u001b[0m \u001b[0ms2\u001b[0m \u001b[0;34m=\u001b[0m\u001b[0;34m{\u001b[0m\u001b[0;34m\"python\"\u001b[0m\u001b[0;34m,\u001b[0m\u001b[0;34m\"java\"\u001b[0m\u001b[0;34m,\u001b[0m\u001b[0;34m\"c++\"\u001b[0m\u001b[0;34m,\u001b[0m\u001b[0;34m\"c\"\u001b[0m\u001b[0;34m,\u001b[0m\u001b[0;34m\"c\"\u001b[0m\u001b[0;34m,\u001b[0m\u001b[0;34m\"c\"\u001b[0m\u001b[0;34m}\u001b[0m\u001b[0;34m\u001b[0m\u001b[0;34m\u001b[0m\u001b[0m\n\u001b[1;32m      2\u001b[0m \u001b[0mprint\u001b[0m\u001b[0;34m(\u001b[0m\u001b[0mlen\u001b[0m\u001b[0;34m(\u001b[0m\u001b[0ms2\u001b[0m\u001b[0;34m)\u001b[0m\u001b[0;34m)\u001b[0m\u001b[0;34m\u001b[0m\u001b[0;34m\u001b[0m\u001b[0m\n\u001b[0;32m----> 3\u001b[0;31m \u001b[0ms2\u001b[0m\u001b[0;34m[\u001b[0m\u001b[0;36m4\u001b[0m\u001b[0;34m]\u001b[0m \u001b[0;34m=\u001b[0m \u001b[0;34m'R'\u001b[0m\u001b[0;34m\u001b[0m\u001b[0;34m\u001b[0m\u001b[0m\n\u001b[0m\u001b[1;32m      4\u001b[0m \u001b[0mprint\u001b[0m\u001b[0;34m(\u001b[0m\u001b[0ms2\u001b[0m\u001b[0;34m)\u001b[0m\u001b[0;34m\u001b[0m\u001b[0;34m\u001b[0m\u001b[0m\n",
            "\u001b[0;31mTypeError\u001b[0m: 'set' object does not support item assignment"
          ]
        }
      ]
    },
    {
      "cell_type": "code",
      "source": [
        "#To add new items or data to set\n",
        "print(dir(s2))\n",
        "\"\"\"'add', 'clear', 'copy', 'difference', 'difference_update', 'discard', 'intersection',\n",
        "'intersection_update', 'isdisjoint', 'issubset', 'issuperset', 'pop', 'remove',\n",
        "'symmetric_difference', 'symmetric_difference_update', 'union', 'update' \"\"\""
      ],
      "metadata": {
        "colab": {
          "base_uri": "https://localhost:8080/",
          "height": 90
        },
        "id": "A_fx_3y-GOMN",
        "outputId": "04c544fa-752d-4ac5-b219-990eb81565e1"
      },
      "execution_count": null,
      "outputs": [
        {
          "output_type": "stream",
          "name": "stdout",
          "text": [
            "['__and__', '__class__', '__class_getitem__', '__contains__', '__delattr__', '__dir__', '__doc__', '__eq__', '__format__', '__ge__', '__getattribute__', '__getstate__', '__gt__', '__hash__', '__iand__', '__init__', '__init_subclass__', '__ior__', '__isub__', '__iter__', '__ixor__', '__le__', '__len__', '__lt__', '__ne__', '__new__', '__or__', '__rand__', '__reduce__', '__reduce_ex__', '__repr__', '__ror__', '__rsub__', '__rxor__', '__setattr__', '__sizeof__', '__str__', '__sub__', '__subclasshook__', '__xor__', 'add', 'clear', 'copy', 'difference', 'difference_update', 'discard', 'intersection', 'intersection_update', 'isdisjoint', 'issubset', 'issuperset', 'pop', 'remove', 'symmetric_difference', 'symmetric_difference_update', 'union', 'update']\n"
          ]
        },
        {
          "output_type": "execute_result",
          "data": {
            "text/plain": [
              "\"'add', 'clear', 'copy', 'difference', 'difference_update', 'discard', 'intersection',\\n'intersection_update', 'isdisjoint', 'issubset', 'issuperset', 'pop', 'remove',\\n'symmetric_difference', 'symmetric_difference_update', 'union', 'update' \""
            ],
            "application/vnd.google.colaboratory.intrinsic+json": {
              "type": "string"
            }
          },
          "metadata": {},
          "execution_count": 4
        }
      ]
    },
    {
      "cell_type": "code",
      "source": [
        "#add() in sets if we add data it doesnot have any indexposition and it can store any where in the set\n",
        "s3 = {2,3,4,5,6,1,9,8,7}\n",
        "s3.add(10)\n",
        "print(s3)\n",
        "#can we add a string into set of numbers-->yes\n",
        "s3.add('hello')\n",
        "print(s3)"
      ],
      "metadata": {
        "colab": {
          "base_uri": "https://localhost:8080/"
        },
        "id": "e6HI-EcZG2q0",
        "outputId": "8213df75-c4a2-4ee8-8764-215c4f6c0d62"
      },
      "execution_count": null,
      "outputs": [
        {
          "output_type": "stream",
          "name": "stdout",
          "text": [
            "{1, 2, 3, 4, 5, 6, 7, 8, 9, 10}\n",
            "{1, 2, 3, 4, 5, 6, 7, 8, 9, 10, 'hello'}\n"
          ]
        }
      ]
    },
    {
      "cell_type": "code",
      "source": [
        "s4= {\"apple\",\"banana\",\"kiwi\"}\n",
        "s4.add('Cherries')\n",
        "print(s4)"
      ],
      "metadata": {
        "colab": {
          "base_uri": "https://localhost:8080/"
        },
        "id": "WhFp0Gy2HS4D",
        "outputId": "5f52b2a9-78f8-4eeb-f1d0-ad9349784564"
      },
      "execution_count": null,
      "outputs": [
        {
          "output_type": "stream",
          "name": "stdout",
          "text": [
            "{'kiwi', 'apple', 'Cherries', 'banana'}\n"
          ]
        }
      ]
    },
    {
      "cell_type": "code",
      "source": [
        "#How to add multiple items in set and what will be their index positioning?\n",
        "#There won't be any index positioning because the set is unordered.\n",
        "#by using \"update\" we can add multiple items.\n",
        "s5 ={'banana', 'kiwi', 'apple', 'Cherries'}\n",
        "s6 = {1,2,3,4,5,6}\n",
        "s5.update(s6)\n",
        "print(s5)"
      ],
      "metadata": {
        "colab": {
          "base_uri": "https://localhost:8080/"
        },
        "id": "Ci7ycKWTIH17",
        "outputId": "3c1822be-9261-4e2e-e30d-179c687f4d3d"
      },
      "execution_count": null,
      "outputs": [
        {
          "output_type": "stream",
          "name": "stdout",
          "text": [
            "{1, 'apple', 2, 3, 4, 5, 6, 'Cherries', 'kiwi', 'banana'}\n"
          ]
        }
      ]
    },
    {
      "cell_type": "code",
      "source": [
        "#To remove items from the set\n",
        "s7 = {'banana', 1, 2, 3, 4, 5, 6, 'kiwi', 'apple', 'Cherries'}\n",
        "#i want to remove \"4\" from above set\n",
        "print(s7.pop()) #pop() is a bad practice"
      ],
      "metadata": {
        "colab": {
          "base_uri": "https://localhost:8080/"
        },
        "id": "Id7jtCHcIndN",
        "outputId": "ce70237e-db7d-4329-ceff-0f383d92858c"
      },
      "execution_count": null,
      "outputs": [
        {
          "output_type": "stream",
          "name": "stdout",
          "text": [
            "1\n"
          ]
        }
      ]
    },
    {
      "cell_type": "code",
      "source": [
        "#Instead use:\n",
        "#remove(item_name)\n",
        "\"\"\"or\"\"\"\n",
        "#discard(item_name)\n",
        "s7.remove('kiwi')\n",
        "print(s7)\n",
        "s7.discard('apple')\n",
        "print(s7)"
      ],
      "metadata": {
        "colab": {
          "base_uri": "https://localhost:8080/",
          "height": 211
        },
        "id": "7vv5A4wvJLnd",
        "outputId": "3937fedb-c048-40fe-fb72-d67c76af1a21"
      },
      "execution_count": null,
      "outputs": [
        {
          "output_type": "error",
          "ename": "NameError",
          "evalue": "name 's7' is not defined",
          "traceback": [
            "\u001b[0;31m---------------------------------------------------------------------------\u001b[0m",
            "\u001b[0;31mNameError\u001b[0m                                 Traceback (most recent call last)",
            "\u001b[0;32m<ipython-input-12-b0714d823fb1>\u001b[0m in \u001b[0;36m<cell line: 0>\u001b[0;34m()\u001b[0m\n\u001b[1;32m      3\u001b[0m \u001b[0;34m\"\"\"or\"\"\"\u001b[0m\u001b[0;34m\u001b[0m\u001b[0;34m\u001b[0m\u001b[0m\n\u001b[1;32m      4\u001b[0m \u001b[0;31m#discard(item_name)\u001b[0m\u001b[0;34m\u001b[0m\u001b[0;34m\u001b[0m\u001b[0m\n\u001b[0;32m----> 5\u001b[0;31m \u001b[0ms7\u001b[0m\u001b[0;34m.\u001b[0m\u001b[0mremove\u001b[0m\u001b[0;34m(\u001b[0m\u001b[0;34m'kiwi'\u001b[0m\u001b[0;34m)\u001b[0m\u001b[0;34m\u001b[0m\u001b[0;34m\u001b[0m\u001b[0m\n\u001b[0m\u001b[1;32m      6\u001b[0m \u001b[0mprint\u001b[0m\u001b[0;34m(\u001b[0m\u001b[0ms7\u001b[0m\u001b[0;34m)\u001b[0m\u001b[0;34m\u001b[0m\u001b[0;34m\u001b[0m\u001b[0m\n\u001b[1;32m      7\u001b[0m \u001b[0ms7\u001b[0m\u001b[0;34m.\u001b[0m\u001b[0mdiscard\u001b[0m\u001b[0;34m(\u001b[0m\u001b[0;34m'apple'\u001b[0m\u001b[0;34m)\u001b[0m\u001b[0;34m\u001b[0m\u001b[0;34m\u001b[0m\u001b[0m\n",
            "\u001b[0;31mNameError\u001b[0m: name 's7' is not defined"
          ]
        }
      ]
    },
    {
      "cell_type": "markdown",
      "source": [
        "#Difference between remove and discard:\n",
        "--> Remove if the item or data is present it removes the item if not it raises error.  \n",
        "\n",
        "--> Discard if the item is present or not it does not raises error."
      ],
      "metadata": {
        "id": "DxqnTLOMJ8rf"
      }
    },
    {
      "cell_type": "code",
      "source": [
        "s8 = {\"one\", \"2\", \"three\", \"4\", \"a\"}\n",
        "print(s8)"
      ],
      "metadata": {
        "colab": {
          "base_uri": "https://localhost:8080/"
        },
        "id": "leicN-JbLykQ",
        "outputId": "539406ed-c56a-475a-b4dd-5b8976430b76"
      },
      "execution_count": null,
      "outputs": [
        {
          "output_type": "stream",
          "name": "stdout",
          "text": [
            "{'one', 'three', '4', 'a', '2'}\n"
          ]
        }
      ]
    },
    {
      "cell_type": "code",
      "source": [
        "#We ccannot delete range of items from the set.\n",
        "#But we can delete the entire set.\n",
        "del s8\n",
        "print(s8)"
      ],
      "metadata": {
        "colab": {
          "base_uri": "https://localhost:8080/",
          "height": 176
        },
        "id": "OcCU4Dn4LZjV",
        "outputId": "e0c1279b-c645-4bfe-deb7-aa51a9b6df50"
      },
      "execution_count": null,
      "outputs": [
        {
          "output_type": "error",
          "ename": "NameError",
          "evalue": "name 's8' is not defined",
          "traceback": [
            "\u001b[0;31m---------------------------------------------------------------------------\u001b[0m",
            "\u001b[0;31mNameError\u001b[0m                                 Traceback (most recent call last)",
            "\u001b[0;32m<ipython-input-16-032be18297dd>\u001b[0m in \u001b[0;36m<cell line: 0>\u001b[0;34m()\u001b[0m\n\u001b[1;32m      2\u001b[0m \u001b[0;31m#But we can delete the entire set.\u001b[0m\u001b[0;34m\u001b[0m\u001b[0;34m\u001b[0m\u001b[0m\n\u001b[1;32m      3\u001b[0m \u001b[0;32mdel\u001b[0m \u001b[0ms8\u001b[0m\u001b[0;34m\u001b[0m\u001b[0;34m\u001b[0m\u001b[0m\n\u001b[0;32m----> 4\u001b[0;31m \u001b[0mprint\u001b[0m\u001b[0;34m(\u001b[0m\u001b[0ms8\u001b[0m\u001b[0;34m)\u001b[0m\u001b[0;34m\u001b[0m\u001b[0;34m\u001b[0m\u001b[0m\n\u001b[0m",
            "\u001b[0;31mNameError\u001b[0m: name 's8' is not defined"
          ]
        }
      ]
    },
    {
      "cell_type": "code",
      "source": [
        "s1 = {\"a\",\"b\",\"c\",\"d\"}\n",
        "s2 = {\"d\",\"e\",\"f\",\"g\"}\n",
        "s1.intersection(s2)"
      ],
      "metadata": {
        "colab": {
          "base_uri": "https://localhost:8080/"
        },
        "id": "s69sRn2fMgWM",
        "outputId": "84e05255-7a2f-4f9b-b841-44ce22069178"
      },
      "execution_count": null,
      "outputs": [
        {
          "output_type": "execute_result",
          "data": {
            "text/plain": [
              "{'d'}"
            ]
          },
          "metadata": {},
          "execution_count": 17
        }
      ]
    },
    {
      "cell_type": "code",
      "source": [
        "s1.union(s2)"
      ],
      "metadata": {
        "colab": {
          "base_uri": "https://localhost:8080/"
        },
        "id": "q-VswjebMmuk",
        "outputId": "38b451e2-d747-49eb-9c40-6c8e10d686d6"
      },
      "execution_count": null,
      "outputs": [
        {
          "output_type": "execute_result",
          "data": {
            "text/plain": [
              "{'a', 'b', 'c', 'd', 'e', 'f', 'g'}"
            ]
          },
          "metadata": {},
          "execution_count": 18
        }
      ]
    },
    {
      "cell_type": "markdown",
      "source": [
        "#Dictionary(Mapping):-\n",
        "- What is dictionary and how can you define it?\n",
        "  \n",
        "  Dictionary is a mutable, unordered collection of key value pairs\n",
        "\n",
        "- How can we access the values from dictionary --> By using unique key name\n",
        "- We cannot access the range of keys.\n",
        "1. Replace the items in dictionary\n",
        "setname('keyname') = 'new data'\n",
        "2. add the new items to the dictionary\n",
        "setname('new keyname') = \"new data\"\n",
        "3. Remove the items from set\n",
        "pop and clear method.\n",
        "-->setname.pop(keyname)\n",
        "-->setname.clear(keyname)"
      ],
      "metadata": {
        "id": "pbnyqdCE-uzv"
      }
    },
    {
      "cell_type": "markdown",
      "source": [
        "#Dictionary won't allows the duplicate"
      ],
      "metadata": {
        "id": "k8SN8NYeFRPA"
      }
    },
    {
      "cell_type": "code",
      "source": [
        "d1 = {\n",
        "    \"name\":\"Mehraj\",\n",
        "    \"age\": 24,\n",
        "    \"phone_num\": 700000000001,\n",
        "    \"education\":\"Graduation\"\n",
        "}\n",
        "print(type(d1))\n",
        "print(len(d1))\n",
        "print(d1)"
      ],
      "metadata": {
        "colab": {
          "base_uri": "https://localhost:8080/"
        },
        "id": "vOZSDMDvFvnm",
        "outputId": "673a2117-29fc-4c62-8135-a36312504cb7"
      },
      "execution_count": null,
      "outputs": [
        {
          "output_type": "stream",
          "name": "stdout",
          "text": [
            "<class 'dict'>\n",
            "4\n",
            "{'name': 'Mehraj', 'age': 24, 'phone_num': 700000000001, 'education': 'Graduation'}\n"
          ]
        }
      ]
    },
    {
      "cell_type": "markdown",
      "source": [
        "#Dictionary is unordered"
      ],
      "metadata": {
        "id": "YvwBwUMJT2eW"
      }
    },
    {
      "cell_type": "code",
      "source": [
        "d1 = {\n",
        "    \"name\":\"Mehraj\",\n",
        "    \"age\": 24,\n",
        "    \"phone_num\": 700000000001,\n",
        "    \"education\":\"Graduation\"\n",
        "}\n",
        "print(d1[1]) #Key error"
      ],
      "metadata": {
        "colab": {
          "base_uri": "https://localhost:8080/",
          "height": 176
        },
        "id": "3ZT7nbQKT7s3",
        "outputId": "0f706e89-0706-4679-ee54-124b8a1a4dd6"
      },
      "execution_count": null,
      "outputs": [
        {
          "output_type": "error",
          "ename": "KeyError",
          "evalue": "1",
          "traceback": [
            "\u001b[0;31m---------------------------------------------------------------------------\u001b[0m",
            "\u001b[0;31mKeyError\u001b[0m                                  Traceback (most recent call last)",
            "\u001b[0;32m<ipython-input-1-8d8fb9fb9919>\u001b[0m in \u001b[0;36m<cell line: 0>\u001b[0;34m()\u001b[0m\n\u001b[1;32m      5\u001b[0m     \u001b[0;34m\"education\"\u001b[0m\u001b[0;34m:\u001b[0m\u001b[0;34m\"Graduation\"\u001b[0m\u001b[0;34m\u001b[0m\u001b[0;34m\u001b[0m\u001b[0m\n\u001b[1;32m      6\u001b[0m }\n\u001b[0;32m----> 7\u001b[0;31m \u001b[0mprint\u001b[0m\u001b[0;34m(\u001b[0m\u001b[0md1\u001b[0m\u001b[0;34m[\u001b[0m\u001b[0;36m1\u001b[0m\u001b[0;34m]\u001b[0m\u001b[0;34m)\u001b[0m \u001b[0;31m#Keyerror\u001b[0m\u001b[0;34m\u001b[0m\u001b[0;34m\u001b[0m\u001b[0m\n\u001b[0m",
            "\u001b[0;31mKeyError\u001b[0m: 1"
          ]
        }
      ]
    },
    {
      "cell_type": "code",
      "source": [
        "#We can access the values from dictionary by using key names, but we cannot acces the key range.\n",
        "print(d1[\"education\"])"
      ],
      "metadata": {
        "colab": {
          "base_uri": "https://localhost:8080/"
        },
        "id": "Jd5iUpsuUYeq",
        "outputId": "4f2465ab-89db-4ed4-a851-07aa3ad364be"
      },
      "execution_count": null,
      "outputs": [
        {
          "output_type": "stream",
          "name": "stdout",
          "text": [
            "Graduation\n"
          ]
        }
      ]
    },
    {
      "cell_type": "markdown",
      "source": [
        "#Dictionary is mutable"
      ],
      "metadata": {
        "id": "CVlQLBvwfN-4"
      }
    },
    {
      "cell_type": "code",
      "source": [
        "#1. Replace the name in dictionary\n",
        "d1[\"name\"]= \"Mohammed\"\n",
        "print(d1)"
      ],
      "metadata": {
        "colab": {
          "base_uri": "https://localhost:8080/"
        },
        "id": "6Dd9aHm4fVC1",
        "outputId": "94c09ba7-6e8b-47d4-c4d8-5bbf741e108c"
      },
      "execution_count": null,
      "outputs": [
        {
          "output_type": "stream",
          "name": "stdout",
          "text": [
            "{'name': 'Mohammed', 'age': 24, 'phone_num': 700000000001, 'education': 'Graduation'}\n"
          ]
        }
      ]
    },
    {
      "cell_type": "code",
      "source": [
        "#2. Add new items to the dictionary\n",
        "d1[\"address\"] = \"Hyderabad\"\n",
        "d1"
      ],
      "metadata": {
        "colab": {
          "base_uri": "https://localhost:8080/"
        },
        "id": "kvbgB-ZWfNkA",
        "outputId": "7e31917a-8acb-4c00-fb85-b9639e32b1b2"
      },
      "execution_count": null,
      "outputs": [
        {
          "output_type": "execute_result",
          "data": {
            "text/plain": [
              "{'name': 'Mohammed',\n",
              " 'age': 24,\n",
              " 'phone_num': 700000000001,\n",
              " 'education': 'Graduation',\n",
              " 'address': 'Hyderabad'}"
            ]
          },
          "metadata": {},
          "execution_count": 7
        }
      ]
    },
    {
      "cell_type": "code",
      "source": [
        "#3. To remove the items from dictionary\n",
        "print(dir(d1))"
      ],
      "metadata": {
        "colab": {
          "base_uri": "https://localhost:8080/"
        },
        "id": "R4HkT5RJgbov",
        "outputId": "34136231-e983-4bd0-a55c-65dc09072c6b"
      },
      "execution_count": null,
      "outputs": [
        {
          "output_type": "stream",
          "name": "stdout",
          "text": [
            "['__class__', '__class_getitem__', '__contains__', '__delattr__', '__delitem__', '__dir__', '__doc__', '__eq__', '__format__', '__ge__', '__getattribute__', '__getitem__', '__getstate__', '__gt__', '__hash__', '__init__', '__init_subclass__', '__ior__', '__iter__', '__le__', '__len__', '__lt__', '__ne__', '__new__', '__or__', '__reduce__', '__reduce_ex__', '__repr__', '__reversed__', '__ror__', '__setattr__', '__setitem__', '__sizeof__', '__str__', '__subclasshook__', 'clear', 'copy', 'fromkeys', 'get', 'items', 'keys', 'pop', 'popitem', 'setdefault', 'update', 'values']\n"
          ]
        }
      ]
    },
    {
      "cell_type": "code",
      "source": [
        "#(i) pop(key_name)\n",
        "d1.pop(\"age\")\n",
        "d1"
      ],
      "metadata": {
        "colab": {
          "base_uri": "https://localhost:8080/"
        },
        "id": "SVdxtfBNgzHA",
        "outputId": "e44aed6c-1490-48c3-cbf6-a14487b7c0ba"
      },
      "execution_count": null,
      "outputs": [
        {
          "output_type": "execute_result",
          "data": {
            "text/plain": [
              "{'name': 'Mohammed',\n",
              " 'phone_num': 700000000001,\n",
              " 'education': 'Graduation',\n",
              " 'address': 'Hyderabad'}"
            ]
          },
          "metadata": {},
          "execution_count": 9
        }
      ]
    },
    {
      "cell_type": "code",
      "source": [
        "#(ii) clear()\n",
        "d1.clear()\n",
        "d1"
      ],
      "metadata": {
        "colab": {
          "base_uri": "https://localhost:8080/"
        },
        "id": "WBDBjPNohExb",
        "outputId": "e532d234-6562-421d-a7ce-48cf15d034a9"
      },
      "execution_count": null,
      "outputs": [
        {
          "output_type": "execute_result",
          "data": {
            "text/plain": [
              "{}"
            ]
          },
          "metadata": {},
          "execution_count": 10
        }
      ]
    },
    {
      "cell_type": "code",
      "source": [
        "#(iii) delete\n",
        "del d1\n",
        "d1"
      ],
      "metadata": {
        "colab": {
          "base_uri": "https://localhost:8080/",
          "height": 176
        },
        "id": "ASTFfFJdhX3c",
        "outputId": "e4098ccf-ca94-499d-98d8-9a5dbb186c70"
      },
      "execution_count": null,
      "outputs": [
        {
          "output_type": "error",
          "ename": "NameError",
          "evalue": "name 'd1' is not defined",
          "traceback": [
            "\u001b[0;31m---------------------------------------------------------------------------\u001b[0m",
            "\u001b[0;31mNameError\u001b[0m                                 Traceback (most recent call last)",
            "\u001b[0;32m<ipython-input-11-b665e0443663>\u001b[0m in \u001b[0;36m<cell line: 0>\u001b[0;34m()\u001b[0m\n\u001b[1;32m      1\u001b[0m \u001b[0;31m#(iii) delete\u001b[0m\u001b[0;34m\u001b[0m\u001b[0;34m\u001b[0m\u001b[0m\n\u001b[1;32m      2\u001b[0m \u001b[0;32mdel\u001b[0m \u001b[0md1\u001b[0m\u001b[0;34m\u001b[0m\u001b[0;34m\u001b[0m\u001b[0m\n\u001b[0;32m----> 3\u001b[0;31m \u001b[0md1\u001b[0m\u001b[0;34m\u001b[0m\u001b[0;34m\u001b[0m\u001b[0m\n\u001b[0m",
            "\u001b[0;31mNameError\u001b[0m: name 'd1' is not defined"
          ]
        }
      ]
    },
    {
      "cell_type": "code",
      "source": [
        "d2 = {\n",
        "    'name': 'Mohammed',\n",
        "    'age': 24,\n",
        "    'phone_num': 700000000001,\n",
        "    'education': 'Graduation',\n",
        "    'address': 'Hyderabad'\n",
        " }\n",
        "\n",
        "#From the above dictionary print only the keys\n",
        "print(d2.keys())\n",
        "print(d2.values())\n",
        "print(d2.items())"
      ],
      "metadata": {
        "colab": {
          "base_uri": "https://localhost:8080/"
        },
        "id": "02SfqnYSi3gH",
        "outputId": "2dd1d883-7f8d-4bf4-8404-9ddc550d828a"
      },
      "execution_count": null,
      "outputs": [
        {
          "output_type": "stream",
          "name": "stdout",
          "text": [
            "dict_keys(['name', 'age', 'phone_num', 'education', 'address'])\n",
            "dict_values(['Mohammed', 24, 700000000001, 'Graduation', 'Hyderabad'])\n",
            "dict_items([('name', 'Mohammed'), ('age', 24), ('phone_num', 700000000001), ('education', 'Graduation'), ('address', 'Hyderabad')])\n"
          ]
        }
      ]
    },
    {
      "cell_type": "code",
      "source": [
        "d2[\"fruits\"] = [\"mango\", \"kiwi\", \"sapodilla]\"]\n",
        "d2"
      ],
      "metadata": {
        "colab": {
          "base_uri": "https://localhost:8080/"
        },
        "id": "pClG4VdRkWpc",
        "outputId": "644f681b-096a-4a7d-b962-b128fc5bb483"
      },
      "execution_count": null,
      "outputs": [
        {
          "output_type": "execute_result",
          "data": {
            "text/plain": [
              "{'name': 'Mohammed',\n",
              " 'age': 24,\n",
              " 'phone_num': 700000000001,\n",
              " 'education': 'Graduation',\n",
              " 'address': 'Hyderabad',\n",
              " 'fruits': ['mango', 'kiwi', 'sapodilla]']}"
            ]
          },
          "metadata": {},
          "execution_count": 13
        }
      ]
    },
    {
      "cell_type": "code",
      "source": [
        "#Replace sapodilla with chiku\n",
        "d2[\"fruits\"][2] = \"chiku\"\n",
        "d2"
      ],
      "metadata": {
        "colab": {
          "base_uri": "https://localhost:8080/"
        },
        "id": "_vU8ePG8k9x1",
        "outputId": "0b55441a-b9c6-43f1-a1d2-0d142fd47b1e"
      },
      "execution_count": null,
      "outputs": [
        {
          "output_type": "execute_result",
          "data": {
            "text/plain": [
              "{'name': 'Mohammed',\n",
              " 'age': 24,\n",
              " 'phone_num': 700000000001,\n",
              " 'education': 'Graduation',\n",
              " 'address': 'Hyderabad',\n",
              " 'fruits': ['mango', 'kiwi', 'chiku']}"
            ]
          },
          "metadata": {},
          "execution_count": 14
        }
      ]
    },
    {
      "cell_type": "code",
      "source": [
        "#Remove \"kiwi\"\n",
        "d2[\"fruits\"].remove(\"kiwi\")\n",
        "d2"
      ],
      "metadata": {
        "colab": {
          "base_uri": "https://localhost:8080/"
        },
        "id": "aWtWxIjVmH7b",
        "outputId": "6e648148-cad0-4424-b053-271bbdfb1bbe"
      },
      "execution_count": null,
      "outputs": [
        {
          "output_type": "execute_result",
          "data": {
            "text/plain": [
              "{'name': 'Mohammed',\n",
              " 'age': 24,\n",
              " 'phone_num': 700000000001,\n",
              " 'education': 'Graduation',\n",
              " 'address': 'Hyderabad',\n",
              " 'fruits': ['mango', 'chiku']}"
            ]
          },
          "metadata": {},
          "execution_count": 15
        }
      ]
    },
    {
      "cell_type": "code",
      "source": [
        "d2[\"fruits\"].pop(0)\n",
        "d2"
      ],
      "metadata": {
        "colab": {
          "base_uri": "https://localhost:8080/"
        },
        "id": "acf8p5G-mvUv",
        "outputId": "67100086-1065-434e-cdf7-476278ddee44"
      },
      "execution_count": null,
      "outputs": [
        {
          "output_type": "execute_result",
          "data": {
            "text/plain": [
              "{'name': 'Mohammed',\n",
              " 'age': 24,\n",
              " 'phone_num': 700000000001,\n",
              " 'education': 'Graduation',\n",
              " 'address': 'Hyderabad',\n",
              " 'fruits': []}"
            ]
          },
          "metadata": {},
          "execution_count": 17
        }
      ]
    },
    {
      "cell_type": "code",
      "source": [
        "d2.clear()\n",
        "d2"
      ],
      "metadata": {
        "colab": {
          "base_uri": "https://localhost:8080/"
        },
        "id": "GzosCOfBm-Vs",
        "outputId": "83ec73f7-eda3-4023-d6ff-73dc212dbb44"
      },
      "execution_count": null,
      "outputs": [
        {
          "output_type": "execute_result",
          "data": {
            "text/plain": [
              "{}"
            ]
          },
          "metadata": {},
          "execution_count": 18
        }
      ]
    },
    {
      "cell_type": "code",
      "source": [
        "del d2\n",
        "d2"
      ],
      "metadata": {
        "id": "zg41kxtNnHHn"
      },
      "execution_count": null,
      "outputs": []
    },
    {
      "cell_type": "code",
      "source": [
        "#Remove the last item from dictionary\n",
        "d3 = {\n",
        "    'name': 'Mohammed',\n",
        "    'age': 24,\n",
        "    'phone_num': 700000000001,\n",
        "    'education': 'Graduation',\n",
        "    'address': 'Hyderabad',\n",
        "    'fruits': ['mango', 'kiwi', 'chiku']\n",
        "}\n",
        "d3.popitem()\n",
        "d3"
      ],
      "metadata": {
        "colab": {
          "base_uri": "https://localhost:8080/"
        },
        "id": "qLLFP2Zfnh6V",
        "outputId": "c5341f4b-c6a7-4b42-8932-8dac6df73f3c"
      },
      "execution_count": null,
      "outputs": [
        {
          "output_type": "execute_result",
          "data": {
            "text/plain": [
              "{'name': 'Mohammed',\n",
              " 'age': 24,\n",
              " 'phone_num': 700000000001,\n",
              " 'education': 'Graduation',\n",
              " 'address': 'Hyderabad'}"
            ]
          },
          "metadata": {},
          "execution_count": 21
        }
      ]
    },
    {
      "cell_type": "markdown",
      "source": [
        "#Recall"
      ],
      "metadata": {
        "id": "evWwDGr9oRbX"
      }
    },
    {
      "cell_type": "code",
      "source": [
        "\"\"\"list:- is a ordered, muttable, allows the duplicates-->[]\n",
        "                  adding methods:- append, insert(index, itemname),extend\n",
        "                  remove method :- pop(),remove, del l[:],clear\n",
        "   tuple:- is  ordered, immutable, allows the duplicates-->()\n",
        "   set :-->  is unordered, immutable, doesn't allow duplicates---> {}\n",
        "                           adding method:- add, update\n",
        "                           remove methods:- remove,discard,pop(bad practice),clear\n",
        "   dictionary--> unordered, mutable, it wont allow the duplicates\n",
        "              -->  key:value pairs\n",
        "              -->  replace by using specific key name we can replace the items in the dictionary\n",
        "              -->  adding items if you give new key name d1['new_key] = \"value\"\n",
        "              -->  remove method:- pop(key_name), clear,popitem()\"\"\""
      ],
      "metadata": {
        "id": "RL1xHnEloTrp"
      },
      "execution_count": null,
      "outputs": []
    },
    {
      "cell_type": "markdown",
      "source": [
        "# Recall of (List, Tuple, Sets, Dictionary):\n",
        "1) List :- It is ordered, mutable, allows the duplictaes\n",
        "\n",
        "--> adding method -- append, insert(index, item name), extend.\n",
        "\n",
        "--> remove method -- pop(), remopve, del 1[:], clear.\n",
        "\n",
        "2) Tuple:- Is orderef , immutable, allows the duplicate.\n",
        "\n",
        "3) Set:- is unordered, immutable, doesn't allow duplicates.\n",
        "\n",
        "--> adding methods -- add, update.\n",
        "\n",
        "--> Remove methods -- remove, discard, pop (bad practice), clear.\n",
        "\n",
        "4) Dictionary:- Unordered, mutable, it won't allow duplicates.\n",
        "\n",
        "--> Key value pairs\n",
        "\n",
        "--> we can replace item by using specific key name\n",
        "\n",
        "--> adding items if we give new key name d1"
      ],
      "metadata": {
        "id": "oOr-GXsw4ZwL"
      }
    },
    {
      "cell_type": "markdown",
      "source": [
        "#Functions:-\n",
        "Function is a reusable block of code which can be used when you call it. The use of functio is to avoid duplicate codes.\n",
        "\n",
        "--> We can create a function by using \"def\" which means you are defining a function."
      ],
      "metadata": {
        "id": "mBNwJFvgoXVT"
      }
    },
    {
      "cell_type": "code",
      "source": [
        "def f1():\n",
        "  print(\"Hello I'm writimg a function to test it\")\n",
        "f1()"
      ],
      "metadata": {
        "id": "JIrITfJhoazA",
        "colab": {
          "base_uri": "https://localhost:8080/"
        },
        "outputId": "b4b49bc1-662e-4ac5-d98a-b23fe0cbe1d7"
      },
      "execution_count": null,
      "outputs": [
        {
          "output_type": "stream",
          "name": "stdout",
          "text": [
            "Hello I'm writimg a function to test it\n"
          ]
        }
      ]
    },
    {
      "cell_type": "code",
      "source": [
        "a = (\"Hello World!\")\n",
        "a\n",
        "print(a.replace(\"World\",\"Universe\"))"
      ],
      "metadata": {
        "colab": {
          "base_uri": "https://localhost:8080/"
        },
        "id": "Ta1ivk3G7tbq",
        "outputId": "c9a83a30-0719-4ff9-92ea-82606c97a375"
      },
      "execution_count": null,
      "outputs": [
        {
          "output_type": "stream",
          "name": "stdout",
          "text": [
            "Hello Universe!\n"
          ]
        }
      ]
    },
    {
      "cell_type": "code",
      "source": [
        "def MD(name,age,education):\n",
        "  print(f'Hi {name}, please check your details, age {age}, education {education}')\n",
        "\n",
        "MD(\"Mehraj\", 24, \"Graduation\")"
      ],
      "metadata": {
        "colab": {
          "base_uri": "https://localhost:8080/"
        },
        "id": "bG993maF8YPt",
        "outputId": "95eeaaee-788d-4370-a55f-e05d0d99b7d5"
      },
      "execution_count": null,
      "outputs": [
        {
          "output_type": "stream",
          "name": "stdout",
          "text": [
            "Hi Mehraj, please check your details, age 24, education Graduation\n"
          ]
        }
      ]
    },
    {
      "cell_type": "markdown",
      "source": [
        "**Parameter**:When we are definig a fuction we are creating variables which are known as parameters.  \n",
        "**Arguments**: The values which are passed while calling a function are known as arguments.\n",
        "\n",
        "**Note**: When we are calling a function the No. of parameters == No. of arguments. (If there is a mismaatch error will occur)."
      ],
      "metadata": {
        "id": "zC0Bdk7sMuyO"
      }
    },
    {
      "cell_type": "code",
      "source": [
        "def check_num(num):\n",
        "  if num%2 == 0:\n",
        "    print(f'given number {num} is even')\n",
        "  else:\n",
        "    print(f'given number {num} is odd')\n",
        "a = int(input(\"enter the number: \"))\n",
        "check_num(a)"
      ],
      "metadata": {
        "colab": {
          "base_uri": "https://localhost:8080/"
        },
        "id": "TyGLClmYPh6b",
        "outputId": "ad735bbc-ebb6-4571-b16b-534c8886265a"
      },
      "execution_count": null,
      "outputs": [
        {
          "output_type": "stream",
          "name": "stdout",
          "text": [
            "enter the number: 98\n",
            "given number 98 is even\n"
          ]
        }
      ]
    },
    {
      "cell_type": "code",
      "source": [
        "#Check the given number is +ve,-ve or neutral\n",
        "def pos_neg_neu(num = 0):\n",
        "  if num>0:\n",
        "    print(\"+ve\")\n",
        "  elif num == 0:\n",
        "    print(\"-ve\")\n",
        "  else:\n",
        "    print(\"-ve\")\n",
        "a = int(input(\"enter the given number: \"))\n",
        "pos_neg_neu(a)"
      ],
      "metadata": {
        "colab": {
          "base_uri": "https://localhost:8080/"
        },
        "id": "-EtpjwbZRi-p",
        "outputId": "422a024e-aa6d-404d-bc85-56b36d6fa5c1"
      },
      "execution_count": null,
      "outputs": [
        {
          "output_type": "stream",
          "name": "stdout",
          "text": [
            "enter the given number: -100\n",
            "-ve\n"
          ]
        }
      ]
    },
    {
      "cell_type": "code",
      "source": [
        "#Default Function:\n",
        "def f1(x=\"No argument given\"):\n",
        "  print(x)\n",
        "f1()\n",
        "\"\"\"When we define a function we create variables which are known as parameters,\n",
        "From these parameters when we assign a value and call a function without giving argument so it executes the function with the default value we have given. \"\"\""
      ],
      "metadata": {
        "id": "o9Q1reRhS-pR",
        "colab": {
          "base_uri": "https://localhost:8080/",
          "height": 70
        },
        "outputId": "63466a5a-24ae-4b47-9ac1-bbc1a1ce24e0"
      },
      "execution_count": 1,
      "outputs": [
        {
          "output_type": "stream",
          "name": "stdout",
          "text": [
            "No argument given\n"
          ]
        },
        {
          "output_type": "execute_result",
          "data": {
            "text/plain": [
              "'When we define a function we create variables which are known as parameters, \\nFrom these parameters when we assign a value and call a function without giving argument so it executes the function with the default value we have given. '"
            ],
            "application/vnd.google.colaboratory.intrinsic+json": {
              "type": "string"
            }
          },
          "metadata": {},
          "execution_count": 1
        }
      ]
    },
    {
      "cell_type": "code",
      "source": [
        "def details(**name):\n",
        "  print(name)\n",
        "\n",
        "details(name=\"Company\", Type = \"pvt ltd\", work = 'Data Analyst',place= 'Hyderabad')"
      ],
      "metadata": {
        "colab": {
          "base_uri": "https://localhost:8080/"
        },
        "id": "Edh1CMIO0Sln",
        "outputId": "707f1ff1-fba4-4245-d720-20e70916e58f"
      },
      "execution_count": 2,
      "outputs": [
        {
          "output_type": "stream",
          "name": "stdout",
          "text": [
            "{'name': 'Company', 'Type': 'pvt ltd', 'work': 'Data Analyst', 'place': 'Hyderabad'}\n"
          ]
        }
      ]
    },
    {
      "cell_type": "markdown",
      "source": [
        "# KWARGS -- (Key Arbitrary Arguments)\n",
        "--> When we don't know how many parameters we have to pass then we use KWARGS\n",
        "\n",
        "--> We can set the type of data which we are passing because by default the data is stored in the form of 'Dictionary'.\n",
        "\n",
        "#ARGS -- (Arbitrary Aguments)\n",
        "--> When we don't know what type of data we need to pass we use ARGS.\n",
        "\n",
        "--> Default data type for ARGS is 'Tuple'.\n",
        "\n",
        "\n",
        "# Return\n",
        "--> It returns or send back the values to the caller.\n",
        "\n",
        "--> It is similar to the print statement.\n",
        "\n",
        "--> When you are using the return we need to call the function with print()."
      ],
      "metadata": {
        "id": "Vsmt9LPL39G7"
      }
    },
    {
      "cell_type": "code",
      "source": [
        "def f1():\n",
        "  return \"hello\"\n",
        "print(f1())"
      ],
      "metadata": {
        "colab": {
          "base_uri": "https://localhost:8080/"
        },
        "id": "QRaU9BKk0kFd",
        "outputId": "e66cd55c-cc31-4b3d-9169-33ed52868cae"
      },
      "execution_count": 1,
      "outputs": [
        {
          "output_type": "stream",
          "name": "stdout",
          "text": [
            "hello\n"
          ]
        }
      ]
    },
    {
      "cell_type": "code",
      "source": [
        "#Write python function to sum all the number in the list\n",
        "list = [10,20,30,40,50]\n",
        "sum = 0\n",
        "for i in list:\n",
        "  sum = sum+i\n",
        "print(sum)"
      ],
      "metadata": {
        "colab": {
          "base_uri": "https://localhost:8080/"
        },
        "id": "xSG1WCOF5JSU",
        "outputId": "d5e33741-e4a3-4f72-841c-4c800add7d0e"
      },
      "execution_count": 3,
      "outputs": [
        {
          "output_type": "stream",
          "name": "stdout",
          "text": [
            "150\n"
          ]
        }
      ]
    },
    {
      "cell_type": "code",
      "source": [
        "def sum_items(numbers):\n",
        "  sum = 0\n",
        "  for i in list:\n",
        "    sum = sum + i\n",
        "  return(sum)\n",
        "  print(sum_items(1,9,11,99,111,999))\n"
      ],
      "metadata": {
        "id": "NFe2UyAB517w"
      },
      "execution_count": 7,
      "outputs": []
    },
    {
      "cell_type": "code",
      "source": [
        "#write a python function that takes a list and returns a distinct values in new list\n",
        "l1 =[1,2,3,3,4,5,6,1,2,3,4,9]\n",
        "x = []\n",
        "for i in l1:\n",
        "  if i not in x:\n",
        "    x.append(i)\n",
        "print(x)\n",
        "print(set(l1))"
      ],
      "metadata": {
        "colab": {
          "base_uri": "https://localhost:8080/"
        },
        "id": "EnZtSlja6-qz",
        "outputId": "5d682980-4855-4c1b-8750-d030b59d13cf"
      },
      "execution_count": 8,
      "outputs": [
        {
          "output_type": "stream",
          "name": "stdout",
          "text": [
            "[1, 2, 3, 4, 5, 6, 9]\n",
            "{1, 2, 3, 4, 5, 6, 9}\n"
          ]
        }
      ]
    },
    {
      "cell_type": "code",
      "source": [
        "def distinct(*l1):\n",
        "  x = []\n",
        "  for i in l1:\n",
        "    if i not in x:\n",
        "      x.append(i)\n",
        "  return x\n",
        "print(distinct(98,97,96,95,94,94,93,93,97))"
      ],
      "metadata": {
        "colab": {
          "base_uri": "https://localhost:8080/"
        },
        "id": "Z5TurpEY7eXn",
        "outputId": "8c18d9db-a191-4432-ad41-328723a616ba"
      },
      "execution_count": 9,
      "outputs": [
        {
          "output_type": "stream",
          "name": "stdout",
          "text": [
            "[98, 97, 96, 95, 94, 93]\n"
          ]
        }
      ]
    },
    {
      "cell_type": "code",
      "source": [
        "def distinct(*l1):\n",
        "  x = []\n",
        "  for i in l1:\n",
        "    if i not in x:\n",
        "      x.append(i)\n",
        "  print(x)\n",
        "distinct(98,97,96,95,94,94,93,93,97)"
      ],
      "metadata": {
        "colab": {
          "base_uri": "https://localhost:8080/"
        },
        "id": "QbOOiFuO7jlt",
        "outputId": "c2b43ff7-813e-436d-f89d-2c7cd5501257"
      },
      "execution_count": 10,
      "outputs": [
        {
          "output_type": "stream",
          "name": "stdout",
          "text": [
            "[98, 97, 96, 95, 94, 93]\n"
          ]
        }
      ]
    },
    {
      "cell_type": "code",
      "source": [
        "def distinct(*l1):\n",
        "  x = []\n",
        "  for i in l1:\n",
        "    if i not in x:\n",
        "      x.append(i)\n",
        "    print(x)\n",
        "distinct(55,65,66,64,65,97,55,87)"
      ],
      "metadata": {
        "colab": {
          "base_uri": "https://localhost:8080/"
        },
        "id": "UFRO4oZJ7xuW",
        "outputId": "4013b969-a68b-4463-fa2e-dd7742decfc0"
      },
      "execution_count": 11,
      "outputs": [
        {
          "output_type": "stream",
          "name": "stdout",
          "text": [
            "[55]\n",
            "[55, 65]\n",
            "[55, 65, 66]\n",
            "[55, 65, 66, 64]\n",
            "[55, 65, 66, 64]\n",
            "[55, 65, 66, 64, 97]\n",
            "[55, 65, 66, 64, 97]\n",
            "[55, 65, 66, 64, 97, 87]\n"
          ]
        }
      ]
    },
    {
      "cell_type": "code",
      "source": [
        "num = int(input(\"enter the number: \"))\n",
        "if num%2==0:\n",
        "    print(f'given number {num} is even')\n",
        "else:\n",
        "    print(f'given number {num} is odd')"
      ],
      "metadata": {
        "colab": {
          "base_uri": "https://localhost:8080/"
        },
        "id": "8dI5JWJ88S7b",
        "outputId": "86901cbb-a35a-446f-ce37-9a6aa53e2e1c"
      },
      "execution_count": 12,
      "outputs": [
        {
          "output_type": "stream",
          "name": "stdout",
          "text": [
            "enter the number: 67989\n",
            "given number 67989 is odd\n"
          ]
        }
      ]
    }
  ]
}